{
 "cells": [
  {
   "cell_type": "markdown",
   "id": "d1be5849-9e30-44c3-9445-22109232ada5",
   "metadata": {},
   "source": [
    "# Python のクラス"
   ]
  },
  {
   "cell_type": "code",
   "execution_count": 2,
   "id": "e3f9e5a0-7626-4a53-8b52-9715201972f4",
   "metadata": {},
   "outputs": [
    {
     "data": {
      "text/plain": [
       "class_sample.User"
      ]
     },
     "execution_count": 2,
     "metadata": {},
     "output_type": "execute_result"
    }
   ],
   "source": [
    "from class_sample import User\n",
    "user1 = User(\"寺田学\", 35, \"東京都台東区\")\n",
    "type(user1)"
   ]
  },
  {
   "cell_type": "code",
   "execution_count": 3,
   "id": "27a47276-4509-4c63-a87e-bf5a1a22155c",
   "metadata": {},
   "outputs": [
    {
     "name": "stdout",
     "output_type": "stream",
     "text": [
      "寺田学\n"
     ]
    }
   ],
   "source": [
    "print(user1.name)"
   ]
  },
  {
   "cell_type": "code",
   "execution_count": 4,
   "id": "36fcbaa6-00a6-430f-83f9-f2abd7d9104c",
   "metadata": {},
   "outputs": [
    {
     "data": {
      "text/plain": [
       "35"
      ]
     },
     "execution_count": 4,
     "metadata": {},
     "output_type": "execute_result"
    }
   ],
   "source": [
    "user1.age"
   ]
  },
  {
   "cell_type": "code",
   "execution_count": 5,
   "id": "2385e1f8-5104-4111-bbb5-4e6b6ecd827e",
   "metadata": {},
   "outputs": [
    {
     "data": {
      "text/plain": [
       "36"
      ]
     },
     "execution_count": 5,
     "metadata": {},
     "output_type": "execute_result"
    }
   ],
   "source": [
    "user1.increment_age()\n",
    "user1.age"
   ]
  },
  {
   "cell_type": "code",
   "execution_count": 6,
   "id": "a27e35a3-e44b-4acb-8141-e1ea61cfc6b3",
   "metadata": {},
   "outputs": [
    {
     "data": {
      "text/plain": [
       "37"
      ]
     },
     "execution_count": 6,
     "metadata": {},
     "output_type": "execute_result"
    }
   ],
   "source": [
    "user1.increment_age()\n",
    "user1.age"
   ]
  },
  {
   "cell_type": "code",
   "execution_count": 7,
   "id": "b01b91a4-129e-41c6-91ae-644ce81f10f3",
   "metadata": {},
   "outputs": [
    {
     "data": {
      "text/plain": [
       "'寺'"
      ]
     },
     "execution_count": 7,
     "metadata": {},
     "output_type": "execute_result"
    }
   ],
   "source": [
    "user1.start_name()"
   ]
  },
  {
   "cell_type": "code",
   "execution_count": 9,
   "id": "1235d811-a280-4c64-93a5-87da0190fa04",
   "metadata": {},
   "outputs": [
    {
     "data": {
      "text/plain": [
       "'鈴'"
      ]
     },
     "execution_count": 9,
     "metadata": {},
     "output_type": "execute_result"
    }
   ],
   "source": [
    "user2 = User(\"鈴木たかのり\", 38, \"東京都渋谷区\")\n",
    "user2.start_name()"
   ]
  },
  {
   "cell_type": "code",
   "execution_count": 10,
   "id": "db529c5b-ccc5-47d3-9de3-3dfb5b5e8c52",
   "metadata": {},
   "outputs": [
    {
     "data": {
      "text/plain": [
       "'寺'"
      ]
     },
     "execution_count": 10,
     "metadata": {},
     "output_type": "execute_result"
    }
   ],
   "source": [
    "user1.start_name()"
   ]
  },
  {
   "cell_type": "code",
   "execution_count": 12,
   "id": "dfe393d2-c8a6-4256-ab67-c64be29106c0",
   "metadata": {},
   "outputs": [
    {
     "data": {
      "text/plain": [
       "<class_sample.User at 0x1119cd880>"
      ]
     },
     "execution_count": 12,
     "metadata": {},
     "output_type": "execute_result"
    }
   ],
   "source": [
    "user = User(\"寺田学\", 35, \"東京都台東区\")\n",
    "user"
   ]
  },
  {
   "cell_type": "code",
   "execution_count": 13,
   "id": "c01100eb-19f2-4ebb-b46e-f7263da97062",
   "metadata": {},
   "outputs": [
    {
     "data": {
      "text/plain": [
       "35"
      ]
     },
     "execution_count": 13,
     "metadata": {},
     "output_type": "execute_result"
    }
   ],
   "source": [
    "user.age"
   ]
  },
  {
   "cell_type": "code",
   "execution_count": 14,
   "id": "6cbf6481-04d5-490b-b944-16d38445ab05",
   "metadata": {},
   "outputs": [
    {
     "data": {
      "text/plain": [
       "'寺'"
      ]
     },
     "execution_count": 14,
     "metadata": {},
     "output_type": "execute_result"
    }
   ],
   "source": [
    "user.start_name()"
   ]
  },
  {
   "cell_type": "code",
   "execution_count": 15,
   "id": "37c6cdd0-a60c-4a7b-8354-b06ca41ba9af",
   "metadata": {},
   "outputs": [
    {
     "name": "stdout",
     "output_type": "stream",
     "text": [
      "None\n"
     ]
    }
   ],
   "source": [
    "print(User.user_type)"
   ]
  },
  {
   "cell_type": "code",
   "execution_count": 16,
   "id": "6594c016-bdfa-4c63-a5bc-f26981e68702",
   "metadata": {},
   "outputs": [
    {
     "data": {
      "text/plain": [
       "'寺田学'"
      ]
     },
     "execution_count": 16,
     "metadata": {},
     "output_type": "execute_result"
    }
   ],
   "source": [
    "user.name"
   ]
  },
  {
   "cell_type": "code",
   "execution_count": 17,
   "id": "bf91f273-f352-4667-b284-1bef5864f773",
   "metadata": {},
   "outputs": [
    {
     "data": {
      "text/plain": [
       "35"
      ]
     },
     "execution_count": 17,
     "metadata": {},
     "output_type": "execute_result"
    }
   ],
   "source": [
    "user.age"
   ]
  },
  {
   "cell_type": "code",
   "execution_count": 18,
   "id": "6e561c7f-56dd-456d-9317-2badfae35c44",
   "metadata": {},
   "outputs": [
    {
     "data": {
      "text/plain": [
       "35"
      ]
     },
     "execution_count": 18,
     "metadata": {},
     "output_type": "execute_result"
    }
   ],
   "source": [
    "user.age"
   ]
  },
  {
   "cell_type": "code",
   "execution_count": 19,
   "id": "1795a1ab-036f-4c8e-982a-ade1fe66cd15",
   "metadata": {},
   "outputs": [
    {
     "data": {
      "text/plain": [
       "38"
      ]
     },
     "execution_count": 19,
     "metadata": {},
     "output_type": "execute_result"
    }
   ],
   "source": [
    "user1.increment_age()\n",
    "user1.age"
   ]
  },
  {
   "cell_type": "code",
   "execution_count": 20,
   "id": "edb4eaa7-2c7d-4876-b330-78c6d361035e",
   "metadata": {},
   "outputs": [
    {
     "data": {
      "text/plain": [
       "39"
      ]
     },
     "execution_count": 20,
     "metadata": {},
     "output_type": "execute_result"
    }
   ],
   "source": [
    "user1.increment_age()\n",
    "user1.age"
   ]
  },
  {
   "cell_type": "code",
   "execution_count": 21,
   "id": "7dd0a601-f092-4b1b-910e-f50f2ffe9c50",
   "metadata": {},
   "outputs": [
    {
     "data": {
      "text/plain": [
       "'寺'"
      ]
     },
     "execution_count": 21,
     "metadata": {},
     "output_type": "execute_result"
    }
   ],
   "source": [
    "user1.start_name()"
   ]
  },
  {
   "cell_type": "code",
   "execution_count": 22,
   "id": "e84cd32c-0515-412d-98a6-ab793c6e2695",
   "metadata": {},
   "outputs": [
    {
     "name": "stdout",
     "output_type": "stream",
     "text": [
      "<class_sample.User object at 0x1119cd880>\n"
     ]
    }
   ],
   "source": [
    "print(user)"
   ]
  },
  {
   "cell_type": "code",
   "execution_count": 23,
   "id": "fd29d368-0cc6-4368-83cd-6f6adbcdff0a",
   "metadata": {},
   "outputs": [
    {
     "name": "stdout",
     "output_type": "stream",
     "text": [
      "<User2 id:4587964416 name:寺田学>\n"
     ]
    }
   ],
   "source": [
    "from class_sample import User2\n",
    "user2 = User2(\"寺田学\", 35, \"東京都台東区\")\n",
    "print(user2)"
   ]
  },
  {
   "cell_type": "code",
   "execution_count": 24,
   "id": "0534deb3-2cb2-494b-8e91-004d71851164",
   "metadata": {},
   "outputs": [
    {
     "ename": "TypeError",
     "evalue": "object of type 'User2' has no len()",
     "output_type": "error",
     "traceback": [
      "\u001b[0;31m---------------------------------------------------------------------------\u001b[0m",
      "\u001b[0;31mTypeError\u001b[0m                                 Traceback (most recent call last)",
      "Cell \u001b[0;32mIn[24], line 1\u001b[0m\n\u001b[0;32m----> 1\u001b[0m \u001b[38;5;28mlen\u001b[39m(user2)\n",
      "\u001b[0;31mTypeError\u001b[0m: object of type 'User2' has no len()"
     ]
    }
   ],
   "source": [
    "len(user2)"
   ]
  },
  {
   "cell_type": "code",
   "execution_count": 25,
   "id": "c13ea5dc-c1d4-490b-a4a0-39edadae721a",
   "metadata": {},
   "outputs": [
    {
     "name": "stdout",
     "output_type": "stream",
     "text": [
      "<User3 id:4588106048 name:寺田学>\n"
     ]
    }
   ],
   "source": [
    "from class_sample import User3\n",
    "user3 = User3(\"寺田学\", 35, \"東京都台東区\")\n",
    "print(user3)"
   ]
  },
  {
   "cell_type": "code",
   "execution_count": 26,
   "id": "b9f1b816-8ede-42f2-8717-dddabb057191",
   "metadata": {},
   "outputs": [
    {
     "data": {
      "text/plain": [
       "False"
      ]
     },
     "execution_count": 26,
     "metadata": {},
     "output_type": "execute_result"
    }
   ],
   "source": [
    "from class_sample import User4\n",
    "user4_1 = User4(\"寺田学\", 35, \"東京都台東区\")\n",
    "user4_2 = User4(\"鈴木たかのり\", 30, \"東京都千代田区\")\n",
    "user4_3 = User4(\"筒井次\", 35, \"東京都渋谷区\")\n",
    "user4_1 == user4_2"
   ]
  },
  {
   "cell_type": "code",
   "execution_count": 27,
   "id": "d1d42851-fc9e-43b0-9a40-ae53c37b991f",
   "metadata": {},
   "outputs": [
    {
     "data": {
      "text/plain": [
       "True"
      ]
     },
     "execution_count": 27,
     "metadata": {},
     "output_type": "execute_result"
    }
   ],
   "source": [
    "user4_1 == user4_3"
   ]
  },
  {
   "cell_type": "code",
   "execution_count": 28,
   "id": "1d215038-ab2a-4d6d-b2e7-304070835613",
   "metadata": {},
   "outputs": [
    {
     "data": {
      "text/plain": [
       "'寺'"
      ]
     },
     "execution_count": 28,
     "metadata": {},
     "output_type": "execute_result"
    }
   ],
   "source": [
    "from class_sample import User\n",
    "user1 = User(\"寺田学\", 35, \"東京都台東区\")\n",
    "user.start_name()"
   ]
  },
  {
   "cell_type": "code",
   "execution_count": 31,
   "id": "cb1f7a25-88d4-4aaf-9215-4520316362fa",
   "metadata": {},
   "outputs": [
    {
     "data": {
      "text/plain": [
       "'寺'"
      ]
     },
     "execution_count": 31,
     "metadata": {},
     "output_type": "execute_result"
    }
   ],
   "source": [
    "from class_sample import User5\n",
    "user = User5(\"寺田学\", 35, \"東京都台東区\")\n",
    "user.start_name"
   ]
  },
  {
   "cell_type": "code",
   "execution_count": 32,
   "id": "2cb5d49d-5d91-4572-8777-b12d0e013bf9",
   "metadata": {},
   "outputs": [
    {
     "data": {
      "text/plain": [
       "datetime.datetime(2021, 7, 22, 11, 15)"
      ]
     },
     "execution_count": 32,
     "metadata": {},
     "output_type": "execute_result"
    }
   ],
   "source": [
    "from datetime import datetime\n",
    "dt = datetime(2021, 7, 22, 11, 15)  \n",
    "dt"
   ]
  },
  {
   "cell_type": "code",
   "execution_count": 33,
   "id": "c61b3ddd-c676-4081-9e5a-edd592072eac",
   "metadata": {},
   "outputs": [
    {
     "data": {
      "text/plain": [
       "datetime.datetime(2024, 12, 25, 20, 41, 23, 890995)"
      ]
     },
     "execution_count": 33,
     "metadata": {},
     "output_type": "execute_result"
    }
   ],
   "source": [
    "dt_now = datetime.now()  \n",
    "dt_now "
   ]
  },
  {
   "cell_type": "code",
   "execution_count": 34,
   "id": "d9223914-ae6d-448b-95ad-258f0a48dd3d",
   "metadata": {},
   "outputs": [
    {
     "data": {
      "text/plain": [
       "datetime.datetime"
      ]
     },
     "execution_count": 34,
     "metadata": {},
     "output_type": "execute_result"
    }
   ],
   "source": [
    "type(dt_now)"
   ]
  },
  {
   "cell_type": "code",
   "execution_count": null,
   "id": "684b5673-3c44-4f75-bedb-c5851608b76e",
   "metadata": {},
   "outputs": [],
   "source": [
    "import unittest\n",
    "\n",
    "class TestSample(unittest.TestCase):  \n",
    "    def setUp(self):\n",
    "        self.target = 'foo'  \n",
    "\n",
    "    def test_upper(self):\n",
    "        self.assertEqual(self.target.upper(), 'FOO')  "
   ]
  },
  {
   "cell_type": "code",
   "execution_count": null,
   "id": "86108669-84ce-48c5-a3b9-0a129e115b93",
   "metadata": {},
   "outputs": [],
   "source": [
    "import unittest\n",
    "import pathlib\n",
    "\n",
    "class TestBase(unittest.TestCase):\n",
    "    def setUp(self):\n",
    "        self.data_path = pathlib.Path('/tmp/data')\n",
    "        self.data_path.mkdir(parents=True, exist_ok=True)\n",
    "\n",
    "    def tearDown(self):\n",
    "        for p in self.data_path.iterdir():\n",
    "            p.unlink()\n",
    "        self.data_path.rmdir()\n",
    "\n",
    "class TestSample1(TestBase):\n",
    "    def setUp(self):\n",
    "        super().setUp()\n",
    "        p1 = self.data_path / 'sample1.txt'\n",
    "        p1.touch()\n",
    "        p2 = self.data_path / 'sample2.txt'\n",
    "        p2.touch()\n",
    "\n",
    "    def test_two_files(self):\n",
    "        self.assertEqual(len(list(self.data_path.iterdir())), 2)\n",
    "\n",
    "class TestSample2(TestBase):\n",
    "    def setUp(self):\n",
    "        super().setUp()\n",
    "        p3 = self.data_path / 'sample.txt'\n",
    "        p3.touch()\n",
    "\n",
    "    def test_one_file(self):\n",
    "        self.assertEqual(len(list(self.data_path.iterdir())), 1)\n",
    "\n",
    "if __name__ == \"__main__\":\n",
    "    unittest.main()"
   ]
  },
  {
   "cell_type": "code",
   "execution_count": 35,
   "id": "75cf6aa9-cc8e-4dde-bd64-09ae4b2757c9",
   "metadata": {},
   "outputs": [
    {
     "data": {
      "text/plain": [
       "User(name='manabu', age=50, address='Chiba')"
      ]
     },
     "execution_count": 35,
     "metadata": {},
     "output_type": "execute_result"
    }
   ],
   "source": [
    "from dataclass_sample import User\n",
    "user = User(\"manabu\", 50, \"Chiba\")\n",
    "user"
   ]
  },
  {
   "cell_type": "code",
   "execution_count": 36,
   "id": "20ea82f8-d7bd-4c76-a575-58ec1bc329f5",
   "metadata": {},
   "outputs": [
    {
     "data": {
      "text/plain": [
       "User(name='manabu', age=51, address='Chiba')"
      ]
     },
     "execution_count": 36,
     "metadata": {},
     "output_type": "execute_result"
    }
   ],
   "source": [
    "from dataclass_sample import User, FrozenUser\n",
    "user = User(\"manabu\", 50, \"Chiba\")\n",
    "user.age = 51\n",
    "user"
   ]
  },
  {
   "cell_type": "code",
   "execution_count": 37,
   "id": "f73b1ea2-4547-4bc1-8ed9-afb4ce62cb36",
   "metadata": {},
   "outputs": [
    {
     "ename": "FrozenInstanceError",
     "evalue": "cannot assign to field 'age'",
     "output_type": "error",
     "traceback": [
      "\u001b[0;31m---------------------------------------------------------------------------\u001b[0m",
      "\u001b[0;31mFrozenInstanceError\u001b[0m                       Traceback (most recent call last)",
      "Cell \u001b[0;32mIn[37], line 2\u001b[0m\n\u001b[1;32m      1\u001b[0m frozen_user \u001b[38;5;241m=\u001b[39m FrozenUser(\u001b[38;5;124m\"\u001b[39m\u001b[38;5;124mmanabu\u001b[39m\u001b[38;5;124m\"\u001b[39m, \u001b[38;5;241m58\u001b[39m, \u001b[38;5;124m\"\u001b[39m\u001b[38;5;124mChiba\u001b[39m\u001b[38;5;124m\"\u001b[39m)\n\u001b[0;32m----> 2\u001b[0m frozen_user\u001b[38;5;241m.\u001b[39mage \u001b[38;5;241m=\u001b[39m \u001b[38;5;241m51\u001b[39m\n",
      "File \u001b[0;32m<string>:4\u001b[0m, in \u001b[0;36m__setattr__\u001b[0;34m(self, name, value)\u001b[0m\n",
      "\u001b[0;31mFrozenInstanceError\u001b[0m: cannot assign to field 'age'"
     ]
    }
   ],
   "source": [
    "frozen_user = FrozenUser(\"manabu\", 58, \"Chiba\")\n",
    "frozen_user.age = 51"
   ]
  },
  {
   "cell_type": "code",
   "execution_count": 38,
   "id": "6002e968-314a-453b-a57c-39c1d273e3d7",
   "metadata": {},
   "outputs": [
    {
     "data": {
      "text/plain": [
       "User2(name='takanori', age=48, address='Tokyo', active=False)"
      ]
     },
     "execution_count": 38,
     "metadata": {},
     "output_type": "execute_result"
    }
   ],
   "source": [
    "from dataclass_sample import User2\n",
    "user2 = User2(\"takanori\", 48, \"Tokyo\")\n",
    "user2"
   ]
  },
  {
   "cell_type": "code",
   "execution_count": 39,
   "id": "5110eab1-c22f-47da-b44a-49b07069edd8",
   "metadata": {},
   "outputs": [
    {
     "data": {
      "text/plain": [
       "User2(name='ryuji', age=32, address='Kanagawa', active=True)"
      ]
     },
     "execution_count": 39,
     "metadata": {},
     "output_type": "execute_result"
    }
   ],
   "source": [
    "user2_2 = User2(\"ryuji\", 32, \"Kanagawa\", True)\n",
    "user2_2"
   ]
  },
  {
   "cell_type": "code",
   "execution_count": 40,
   "id": "ef50793d-dfbc-468e-b0d2-429241684ecd",
   "metadata": {},
   "outputs": [
    {
     "data": {
      "text/plain": [
       "User(name='manabu', age=50, address='Chiba')"
      ]
     },
     "execution_count": 40,
     "metadata": {},
     "output_type": "execute_result"
    }
   ],
   "source": [
    "from dataclass_sample import User\n",
    "user = User(\"manabu\", 50, \"Chiba\")\n",
    "user"
   ]
  },
  {
   "cell_type": "code",
   "execution_count": 41,
   "id": "c089a2e1-b7c2-44ff-b49d-16f9721321a1",
   "metadata": {},
   "outputs": [
    {
     "data": {
      "text/plain": [
       "{'name': 'manabu', 'age': 50, 'address': 'Chiba'}"
      ]
     },
     "execution_count": 41,
     "metadata": {},
     "output_type": "execute_result"
    }
   ],
   "source": [
    "from dataclasses import asdict, astuple\n",
    "asdict(user)"
   ]
  },
  {
   "cell_type": "code",
   "execution_count": 43,
   "id": "f25d50c9-2394-4fdd-bfb9-9922bf0a4d14",
   "metadata": {},
   "outputs": [
    {
     "data": {
      "text/plain": [
       "('manabu', 50, 'Chiba')"
      ]
     },
     "execution_count": 43,
     "metadata": {},
     "output_type": "execute_result"
    }
   ],
   "source": [
    "astuple(user)"
   ]
  },
  {
   "cell_type": "code",
   "execution_count": 44,
   "id": "1bac63a9-7442-4697-9ae2-19e265e708cf",
   "metadata": {},
   "outputs": [
    {
     "data": {
      "text/plain": [
       "User(name='manabu', age=50, address='Chiba')"
      ]
     },
     "execution_count": 44,
     "metadata": {},
     "output_type": "execute_result"
    }
   ],
   "source": [
    "user = User(\"manabu\", 50, \"Chiba\")\n",
    "user"
   ]
  },
  {
   "cell_type": "code",
   "execution_count": 45,
   "id": "cdbfe704-9071-4b57-83b7-1bdc19e3e141",
   "metadata": {},
   "outputs": [
    {
     "data": {
      "text/plain": [
       "4601262000"
      ]
     },
     "execution_count": 45,
     "metadata": {},
     "output_type": "execute_result"
    }
   ],
   "source": [
    "i = 100_000_008  \n",
    "id(i)"
   ]
  },
  {
   "cell_type": "code",
   "execution_count": 46,
   "id": "c9d40732-a63c-4465-b0c9-0a1bfb49d81c",
   "metadata": {},
   "outputs": [
    {
     "data": {
      "text/plain": [
       "4602961776"
      ]
     },
     "execution_count": 46,
     "metadata": {},
     "output_type": "execute_result"
    }
   ],
   "source": [
    "s = \"I am a web engineer based on Chiba\"  \n",
    "id(s)"
   ]
  },
  {
   "cell_type": "code",
   "execution_count": 47,
   "id": "4fe721bd-6d45-4d73-9991-7593bb62a793",
   "metadata": {},
   "outputs": [
    {
     "data": {
      "text/plain": [
       "4602893440"
      ]
     },
     "execution_count": 47,
     "metadata": {},
     "output_type": "execute_result"
    }
   ],
   "source": [
    "li = []  \n",
    "id(li)"
   ]
  },
  {
   "cell_type": "code",
   "execution_count": 49,
   "id": "e1cc54f7-ef71-4e2e-ada6-c7df28bfdb02",
   "metadata": {},
   "outputs": [
    {
     "data": {
      "text/plain": [
       "4602893440"
      ]
     },
     "execution_count": 49,
     "metadata": {},
     "output_type": "execute_result"
    }
   ],
   "source": [
    "li.append(1)  \n",
    "id(li)"
   ]
  },
  {
   "cell_type": "code",
   "execution_count": 50,
   "id": "7604cd68-b7c2-49ae-8c5e-8e5832e10025",
   "metadata": {},
   "outputs": [
    {
     "data": {
      "text/plain": [
       "int"
      ]
     },
     "execution_count": 50,
     "metadata": {},
     "output_type": "execute_result"
    }
   ],
   "source": [
    "type(1)"
   ]
  },
  {
   "cell_type": "code",
   "execution_count": 51,
   "id": "27ebcf94-ad4a-458c-bc64-811ce2ad9d91",
   "metadata": {},
   "outputs": [
    {
     "data": {
      "text/plain": [
       "str"
      ]
     },
     "execution_count": 51,
     "metadata": {},
     "output_type": "execute_result"
    }
   ],
   "source": [
    "type(\"test\")"
   ]
  },
  {
   "cell_type": "code",
   "execution_count": 52,
   "id": "95afbe98-bd28-4e33-aca2-812c17a77030",
   "metadata": {},
   "outputs": [
    {
     "data": {
      "text/plain": [
       "list"
      ]
     },
     "execution_count": 52,
     "metadata": {},
     "output_type": "execute_result"
    }
   ],
   "source": [
    "type([])"
   ]
  },
  {
   "cell_type": "code",
   "execution_count": 53,
   "id": "71d574a0-a640-4980-8a85-543c2000290c",
   "metadata": {},
   "outputs": [
    {
     "data": {
      "text/plain": [
       "True"
      ]
     },
     "execution_count": 53,
     "metadata": {},
     "output_type": "execute_result"
    }
   ],
   "source": [
    "isinstance(1, int)"
   ]
  },
  {
   "cell_type": "code",
   "execution_count": 54,
   "id": "999bb2c0-8984-41a8-ad6b-fe65fd68dc02",
   "metadata": {},
   "outputs": [
    {
     "data": {
      "text/plain": [
       "False"
      ]
     },
     "execution_count": 54,
     "metadata": {},
     "output_type": "execute_result"
    }
   ],
   "source": [
    "isinstance(1, str)"
   ]
  },
  {
   "cell_type": "code",
   "execution_count": 55,
   "id": "0308b732-d376-44d5-ac02-0ac327406f36",
   "metadata": {},
   "outputs": [
    {
     "data": {
      "text/plain": [
       "True"
      ]
     },
     "execution_count": 55,
     "metadata": {},
     "output_type": "execute_result"
    }
   ],
   "source": [
    "isinstance([], (list, tuple))"
   ]
  },
  {
   "cell_type": "code",
   "execution_count": 56,
   "id": "db4b09cb-6a6a-4709-b039-14b69b52485a",
   "metadata": {},
   "outputs": [
    {
     "data": {
      "text/plain": [
       "False"
      ]
     },
     "execution_count": 56,
     "metadata": {},
     "output_type": "execute_result"
    }
   ],
   "source": [
    "isinstance(\"1.0\", (int, float))"
   ]
  },
  {
   "cell_type": "code",
   "execution_count": 57,
   "id": "dab00497-b273-4b5a-99ee-1bfc33449fe6",
   "metadata": {},
   "outputs": [
    {
     "data": {
      "text/plain": [
       "True"
      ]
     },
     "execution_count": 57,
     "metadata": {},
     "output_type": "execute_result"
    }
   ],
   "source": [
    "isinstance(True, bool)"
   ]
  },
  {
   "cell_type": "code",
   "execution_count": 58,
   "id": "3cd72390-6a72-4989-9137-44328fa4e20d",
   "metadata": {},
   "outputs": [
    {
     "data": {
      "text/plain": [
       "True"
      ]
     },
     "execution_count": 58,
     "metadata": {},
     "output_type": "execute_result"
    }
   ],
   "source": [
    "isinstance(True, int)"
   ]
  },
  {
   "cell_type": "code",
   "execution_count": 59,
   "id": "d8c50bc6-9d3f-44d0-b981-1a1db9263ab3",
   "metadata": {},
   "outputs": [
    {
     "data": {
      "text/plain": [
       "False"
      ]
     },
     "execution_count": 59,
     "metadata": {},
     "output_type": "execute_result"
    }
   ],
   "source": [
    "isinstance(True, float)"
   ]
  },
  {
   "cell_type": "code",
   "execution_count": 60,
   "id": "1e8eb307-e92c-4657-af8a-4fe989989e77",
   "metadata": {},
   "outputs": [
    {
     "data": {
      "text/plain": [
       "True"
      ]
     },
     "execution_count": 60,
     "metadata": {},
     "output_type": "execute_result"
    }
   ],
   "source": [
    "isinstance(1, object)"
   ]
  },
  {
   "cell_type": "code",
   "execution_count": 61,
   "id": "18e79c5f-0e8f-46d4-99d4-6864100c0043",
   "metadata": {},
   "outputs": [
    {
     "data": {
      "text/plain": [
       "True"
      ]
     },
     "execution_count": 61,
     "metadata": {},
     "output_type": "execute_result"
    }
   ],
   "source": [
    "isinstance([], object)"
   ]
  },
  {
   "cell_type": "code",
   "execution_count": 63,
   "id": "29c06e00-5c5f-4d93-af97-791564337c7a",
   "metadata": {},
   "outputs": [],
   "source": [
    "def func():\n",
    "    pass"
   ]
  },
  {
   "cell_type": "code",
   "execution_count": 64,
   "id": "c93302f6-16ca-47a6-8d6a-0569e5272077",
   "metadata": {},
   "outputs": [
    {
     "data": {
      "text/plain": [
       "True"
      ]
     },
     "execution_count": 64,
     "metadata": {},
     "output_type": "execute_result"
    }
   ],
   "source": [
    "isinstance(func, object)"
   ]
  },
  {
   "cell_type": "code",
   "execution_count": 65,
   "id": "eb90f156-c325-4f32-8afe-f890eeaa2051",
   "metadata": {},
   "outputs": [
    {
     "data": {
      "text/plain": [
       "True"
      ]
     },
     "execution_count": 65,
     "metadata": {},
     "output_type": "execute_result"
    }
   ],
   "source": [
    "issubclass(bool, int)"
   ]
  },
  {
   "cell_type": "code",
   "execution_count": 66,
   "id": "cb33050b-525a-4729-bafd-a1df5f632d92",
   "metadata": {},
   "outputs": [
    {
     "data": {
      "text/plain": [
       "False"
      ]
     },
     "execution_count": 66,
     "metadata": {},
     "output_type": "execute_result"
    }
   ],
   "source": [
    "issubclass(bool, float)"
   ]
  },
  {
   "cell_type": "code",
   "execution_count": 67,
   "id": "54abec30-8547-4c04-8a92-51ba120bef07",
   "metadata": {},
   "outputs": [
    {
     "data": {
      "text/plain": [
       "True"
      ]
     },
     "execution_count": 67,
     "metadata": {},
     "output_type": "execute_result"
    }
   ],
   "source": [
    "issubclass(bool, object)"
   ]
  },
  {
   "cell_type": "code",
   "execution_count": 68,
   "id": "9e3f1689-e616-448e-b48d-6f087c7262c4",
   "metadata": {},
   "outputs": [
    {
     "name": "stdout",
     "output_type": "stream",
     "text": [
      "Help on class int in module builtins:\n",
      "\n",
      "class int(object)\n",
      " |  int([x]) -> integer\n",
      " |  int(x, base=10) -> integer\n",
      " |\n",
      " |  Convert a number or string to an integer, or return 0 if no arguments\n",
      " |  are given.  If x is a number, return x.__int__().  For floating-point\n",
      " |  numbers, this truncates towards zero.\n",
      " |\n",
      " |  If x is not a number or if base is given, then x must be a string,\n",
      " |  bytes, or bytearray instance representing an integer literal in the\n",
      " |  given base.  The literal can be preceded by '+' or '-' and be surrounded\n",
      " |  by whitespace.  The base defaults to 10.  Valid bases are 0 and 2-36.\n",
      " |  Base 0 means to interpret the base from the string as an integer literal.\n",
      " |  >>> int('0b100', base=0)\n",
      " |  4\n",
      " |\n",
      " |  Built-in subclasses:\n",
      " |      bool\n",
      " |\n",
      " |  Methods defined here:\n",
      " |\n",
      " |  __abs__(self, /)\n",
      " |      abs(self)\n",
      " |\n",
      " |  __add__(self, value, /)\n",
      " |      Return self+value.\n",
      " |\n",
      " |  __and__(self, value, /)\n",
      " |      Return self&value.\n",
      " |\n",
      " |  __bool__(self, /)\n",
      " |      True if self else False\n",
      " |\n",
      " |  __ceil__(...)\n",
      " |      Ceiling of an Integral returns itself.\n",
      " |\n",
      " |  __divmod__(self, value, /)\n",
      " |      Return divmod(self, value).\n",
      " |\n",
      " |  __eq__(self, value, /)\n",
      " |      Return self==value.\n",
      " |\n",
      " |  __float__(self, /)\n",
      " |      float(self)\n",
      " |\n",
      " |  __floor__(...)\n",
      " |      Flooring an Integral returns itself.\n",
      " |\n",
      " |  __floordiv__(self, value, /)\n",
      " |      Return self//value.\n",
      " |\n",
      " |  __format__(self, format_spec, /)\n",
      " |      Convert to a string according to format_spec.\n",
      " |\n",
      " |  __ge__(self, value, /)\n",
      " |      Return self>=value.\n",
      " |\n",
      " |  __getattribute__(self, name, /)\n",
      " |      Return getattr(self, name).\n",
      " |\n",
      " |  __getnewargs__(self, /)\n",
      " |\n",
      " |  __gt__(self, value, /)\n",
      " |      Return self>value.\n",
      " |\n",
      " |  __hash__(self, /)\n",
      " |      Return hash(self).\n",
      " |\n",
      " |  __index__(self, /)\n",
      " |      Return self converted to an integer, if self is suitable for use as an index into a list.\n",
      " |\n",
      " |  __int__(self, /)\n",
      " |      int(self)\n",
      " |\n",
      " |  __invert__(self, /)\n",
      " |      ~self\n",
      " |\n",
      " |  __le__(self, value, /)\n",
      " |      Return self<=value.\n",
      " |\n",
      " |  __lshift__(self, value, /)\n",
      " |      Return self<<value.\n",
      " |\n",
      " |  __lt__(self, value, /)\n",
      " |      Return self<value.\n",
      " |\n",
      " |  __mod__(self, value, /)\n",
      " |      Return self%value.\n",
      " |\n",
      " |  __mul__(self, value, /)\n",
      " |      Return self*value.\n",
      " |\n",
      " |  __ne__(self, value, /)\n",
      " |      Return self!=value.\n",
      " |\n",
      " |  __neg__(self, /)\n",
      " |      -self\n",
      " |\n",
      " |  __or__(self, value, /)\n",
      " |      Return self|value.\n",
      " |\n",
      " |  __pos__(self, /)\n",
      " |      +self\n",
      " |\n",
      " |  __pow__(self, value, mod=None, /)\n",
      " |      Return pow(self, value, mod).\n",
      " |\n",
      " |  __radd__(self, value, /)\n",
      " |      Return value+self.\n",
      " |\n",
      " |  __rand__(self, value, /)\n",
      " |      Return value&self.\n",
      " |\n",
      " |  __rdivmod__(self, value, /)\n",
      " |      Return divmod(value, self).\n",
      " |\n",
      " |  __repr__(self, /)\n",
      " |      Return repr(self).\n",
      " |\n",
      " |  __rfloordiv__(self, value, /)\n",
      " |      Return value//self.\n",
      " |\n",
      " |  __rlshift__(self, value, /)\n",
      " |      Return value<<self.\n",
      " |\n",
      " |  __rmod__(self, value, /)\n",
      " |      Return value%self.\n",
      " |\n",
      " |  __rmul__(self, value, /)\n",
      " |      Return value*self.\n",
      " |\n",
      " |  __ror__(self, value, /)\n",
      " |      Return value|self.\n",
      " |\n",
      " |  __round__(...)\n",
      " |      Rounding an Integral returns itself.\n",
      " |\n",
      " |      Rounding with an ndigits argument also returns an integer.\n",
      " |\n",
      " |  __rpow__(self, value, mod=None, /)\n",
      " |      Return pow(value, self, mod).\n",
      " |\n",
      " |  __rrshift__(self, value, /)\n",
      " |      Return value>>self.\n",
      " |\n",
      " |  __rshift__(self, value, /)\n",
      " |      Return self>>value.\n",
      " |\n",
      " |  __rsub__(self, value, /)\n",
      " |      Return value-self.\n",
      " |\n",
      " |  __rtruediv__(self, value, /)\n",
      " |      Return value/self.\n",
      " |\n",
      " |  __rxor__(self, value, /)\n",
      " |      Return value^self.\n",
      " |\n",
      " |  __sizeof__(self, /)\n",
      " |      Returns size in memory, in bytes.\n",
      " |\n",
      " |  __sub__(self, value, /)\n",
      " |      Return self-value.\n",
      " |\n",
      " |  __truediv__(self, value, /)\n",
      " |      Return self/value.\n",
      " |\n",
      " |  __trunc__(...)\n",
      " |      Truncating an Integral returns itself.\n",
      " |\n",
      " |  __xor__(self, value, /)\n",
      " |      Return self^value.\n",
      " |\n",
      " |  as_integer_ratio(self, /)\n",
      " |      Return a pair of integers, whose ratio is equal to the original int.\n",
      " |\n",
      " |      The ratio is in lowest terms and has a positive denominator.\n",
      " |\n",
      " |      >>> (10).as_integer_ratio()\n",
      " |      (10, 1)\n",
      " |      >>> (-10).as_integer_ratio()\n",
      " |      (-10, 1)\n",
      " |      >>> (0).as_integer_ratio()\n",
      " |      (0, 1)\n",
      " |\n",
      " |  bit_count(self, /)\n",
      " |      Number of ones in the binary representation of the absolute value of self.\n",
      " |\n",
      " |      Also known as the population count.\n",
      " |\n",
      " |      >>> bin(13)\n",
      " |      '0b1101'\n",
      " |      >>> (13).bit_count()\n",
      " |      3\n",
      " |\n",
      " |  bit_length(self, /)\n",
      " |      Number of bits necessary to represent self in binary.\n",
      " |\n",
      " |      >>> bin(37)\n",
      " |      '0b100101'\n",
      " |      >>> (37).bit_length()\n",
      " |      6\n",
      " |\n",
      " |  conjugate(...)\n",
      " |      Returns self, the complex conjugate of any int.\n",
      " |\n",
      " |  is_integer(self, /)\n",
      " |      Returns True. Exists for duck type compatibility with float.is_integer.\n",
      " |\n",
      " |  to_bytes(self, /, length=1, byteorder='big', *, signed=False)\n",
      " |      Return an array of bytes representing an integer.\n",
      " |\n",
      " |      length\n",
      " |        Length of bytes object to use.  An OverflowError is raised if the\n",
      " |        integer is not representable with the given number of bytes.  Default\n",
      " |        is length 1.\n",
      " |      byteorder\n",
      " |        The byte order used to represent the integer.  If byteorder is 'big',\n",
      " |        the most significant byte is at the beginning of the byte array.  If\n",
      " |        byteorder is 'little', the most significant byte is at the end of the\n",
      " |        byte array.  To request the native byte order of the host system, use\n",
      " |        `sys.byteorder' as the byte order value.  Default is to use 'big'.\n",
      " |      signed\n",
      " |        Determines whether two's complement is used to represent the integer.\n",
      " |        If signed is False and a negative integer is given, an OverflowError\n",
      " |        is raised.\n",
      " |\n",
      " |  ----------------------------------------------------------------------\n",
      " |  Class methods defined here:\n",
      " |\n",
      " |  from_bytes(bytes, byteorder='big', *, signed=False)\n",
      " |      Return the integer represented by the given array of bytes.\n",
      " |\n",
      " |      bytes\n",
      " |        Holds the array of bytes to convert.  The argument must either\n",
      " |        support the buffer protocol or be an iterable object producing bytes.\n",
      " |        Bytes and bytearray are examples of built-in objects that support the\n",
      " |        buffer protocol.\n",
      " |      byteorder\n",
      " |        The byte order used to represent the integer.  If byteorder is 'big',\n",
      " |        the most significant byte is at the beginning of the byte array.  If\n",
      " |        byteorder is 'little', the most significant byte is at the end of the\n",
      " |        byte array.  To request the native byte order of the host system, use\n",
      " |        `sys.byteorder' as the byte order value.  Default is to use 'big'.\n",
      " |      signed\n",
      " |        Indicates whether two's complement is used to represent the integer.\n",
      " |\n",
      " |  ----------------------------------------------------------------------\n",
      " |  Static methods defined here:\n",
      " |\n",
      " |  __new__(*args, **kwargs)\n",
      " |      Create and return a new object.  See help(type) for accurate signature.\n",
      " |\n",
      " |  ----------------------------------------------------------------------\n",
      " |  Data descriptors defined here:\n",
      " |\n",
      " |  denominator\n",
      " |      the denominator of a rational number in lowest terms\n",
      " |\n",
      " |  imag\n",
      " |      the imaginary part of a complex number\n",
      " |\n",
      " |  numerator\n",
      " |      the numerator of a rational number in lowest terms\n",
      " |\n",
      " |  real\n",
      " |      the real part of a complex number\n",
      "\n"
     ]
    }
   ],
   "source": [
    "help(int)"
   ]
  },
  {
   "cell_type": "code",
   "execution_count": null,
   "id": "b64c4d58-de4d-4493-b10f-6eb404b3cad1",
   "metadata": {},
   "outputs": [],
   "source": [
    "def func():\n",
    "\n",
    "help(func):\n",
    "Help on function func in module __main__:\n",
    "\n",
    "func()"
   ]
  },
  {
   "cell_type": "code",
   "execution_count": 70,
   "id": "fccab630-9331-4b5f-a188-1901aa49d473",
   "metadata": {},
   "outputs": [
    {
     "data": {
      "text/plain": [
       "['__add__',\n",
       " '__class__',\n",
       " '__contains__',\n",
       " '__delattr__',\n",
       " '__dir__',\n",
       " '__doc__',\n",
       " '__eq__',\n",
       " '__format__',\n",
       " '__ge__',\n",
       " '__getattribute__',\n",
       " '__getitem__',\n",
       " '__getnewargs__',\n",
       " '__getstate__',\n",
       " '__gt__',\n",
       " '__hash__',\n",
       " '__init__',\n",
       " '__init_subclass__',\n",
       " '__iter__',\n",
       " '__le__',\n",
       " '__len__',\n",
       " '__lt__',\n",
       " '__mod__',\n",
       " '__mul__',\n",
       " '__ne__',\n",
       " '__new__',\n",
       " '__reduce__',\n",
       " '__reduce_ex__',\n",
       " '__repr__',\n",
       " '__rmod__',\n",
       " '__rmul__',\n",
       " '__setattr__',\n",
       " '__sizeof__',\n",
       " '__str__',\n",
       " '__subclasshook__',\n",
       " 'capitalize',\n",
       " 'casefold',\n",
       " 'center',\n",
       " 'count',\n",
       " 'encode',\n",
       " 'endswith',\n",
       " 'expandtabs',\n",
       " 'find',\n",
       " 'format',\n",
       " 'format_map',\n",
       " 'index',\n",
       " 'isalnum',\n",
       " 'isalpha',\n",
       " 'isascii',\n",
       " 'isdecimal',\n",
       " 'isdigit',\n",
       " 'isidentifier',\n",
       " 'islower',\n",
       " 'isnumeric',\n",
       " 'isprintable',\n",
       " 'isspace',\n",
       " 'istitle',\n",
       " 'isupper',\n",
       " 'join',\n",
       " 'ljust',\n",
       " 'lower',\n",
       " 'lstrip',\n",
       " 'maketrans',\n",
       " 'partition',\n",
       " 'removeprefix',\n",
       " 'removesuffix',\n",
       " 'replace',\n",
       " 'rfind',\n",
       " 'rindex',\n",
       " 'rjust',\n",
       " 'rpartition',\n",
       " 'rsplit',\n",
       " 'rstrip',\n",
       " 'split',\n",
       " 'splitlines',\n",
       " 'startswith',\n",
       " 'strip',\n",
       " 'swapcase',\n",
       " 'title',\n",
       " 'translate',\n",
       " 'upper',\n",
       " 'zfill']"
      ]
     },
     "execution_count": 70,
     "metadata": {},
     "output_type": "execute_result"
    }
   ],
   "source": [
    "dir(\"test\")"
   ]
  },
  {
   "cell_type": "code",
   "execution_count": 72,
   "id": "acae4fb8-5d17-4b12-834b-dc731d2e3547",
   "metadata": {},
   "outputs": [],
   "source": [
    "def to_str(data):\n",
    "    if isinstance(data, str):  \n",
    "        return data\n",
    "    elif isinstance(data, bytes): \n",
    "        return data.decode('utf-8')\n",
    "    elif isinstance(data, (int, float)): \n",
    "        return str(data)\n",
    "    else: \n",
    "        return \"\""
   ]
  },
  {
   "cell_type": "code",
   "execution_count": 73,
   "id": "b964a4f9-384c-4273-9e89-a14ddf7fc91c",
   "metadata": {},
   "outputs": [
    {
     "data": {
      "text/plain": [
       "'test'"
      ]
     },
     "execution_count": 73,
     "metadata": {},
     "output_type": "execute_result"
    }
   ],
   "source": [
    "to_str(\"test\")"
   ]
  },
  {
   "cell_type": "code",
   "execution_count": 74,
   "id": "ade8de8c-cc38-4565-af92-25d21504802c",
   "metadata": {},
   "outputs": [
    {
     "data": {
      "text/plain": [
       "'10'"
      ]
     },
     "execution_count": 74,
     "metadata": {},
     "output_type": "execute_result"
    }
   ],
   "source": [
    "to_str(10)"
   ]
  },
  {
   "cell_type": "code",
   "execution_count": 75,
   "id": "dbbb7019-cbdb-40e2-85ae-3a4ab5466a5c",
   "metadata": {},
   "outputs": [
    {
     "data": {
      "text/plain": [
       "'0.9'"
      ]
     },
     "execution_count": 75,
     "metadata": {},
     "output_type": "execute_result"
    }
   ],
   "source": [
    "to_str(0.9)"
   ]
  },
  {
   "cell_type": "code",
   "execution_count": 76,
   "id": "9be1de22-cc01-42b6-acde-8077e2d371c7",
   "metadata": {},
   "outputs": [
    {
     "data": {
      "text/plain": [
       "'test'"
      ]
     },
     "execution_count": 76,
     "metadata": {},
     "output_type": "execute_result"
    }
   ],
   "source": [
    "to_str(b\"test\")"
   ]
  },
  {
   "cell_type": "code",
   "execution_count": 77,
   "id": "cbffd5be-9395-4df7-9dd6-09ded966161e",
   "metadata": {},
   "outputs": [
    {
     "data": {
      "text/plain": [
       "''"
      ]
     },
     "execution_count": 77,
     "metadata": {},
     "output_type": "execute_result"
    }
   ],
   "source": [
    "to_str([])"
   ]
  },
  {
   "cell_type": "code",
   "execution_count": null,
   "id": "b3b811f3-b7f5-4b94-b232-bf691ae00bc2",
   "metadata": {},
   "outputs": [],
   "source": []
  }
 ],
 "metadata": {
  "kernelspec": {
   "display_name": "Python 3 (ipykernel)",
   "language": "python",
   "name": "python3"
  },
  "language_info": {
   "codemirror_mode": {
    "name": "ipython",
    "version": 3
   },
   "file_extension": ".py",
   "mimetype": "text/x-python",
   "name": "python",
   "nbconvert_exporter": "python",
   "pygments_lexer": "ipython3",
   "version": "3.12.7"
  }
 },
 "nbformat": 4,
 "nbformat_minor": 5
}
