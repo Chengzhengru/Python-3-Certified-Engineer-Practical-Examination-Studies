{
 "cells": [
  {
   "cell_type": "markdown",
   "id": "ff37bb2d-a29d-4f4e-8cec-a707fecaa945",
   "metadata": {},
   "source": [
    "# Python の言語仕様"
   ]
  },
  {
   "cell_type": "code",
   "execution_count": 1,
   "id": "77866e2c-40c2-4069-a33d-53eb8f6f3dee",
   "metadata": {},
   "outputs": [
    {
     "ename": "ZeroDivisionError",
     "evalue": "division by zero",
     "output_type": "error",
     "traceback": [
      "\u001b[0;31m---------------------------------------------------------------------------\u001b[0m",
      "\u001b[0;31mZeroDivisionError\u001b[0m                         Traceback (most recent call last)",
      "Cell \u001b[0;32mIn[1], line 1\u001b[0m\n\u001b[0;32m----> 1\u001b[0m num \u001b[38;5;241m=\u001b[39m \u001b[38;5;241m10\u001b[39m \u001b[38;5;241m/\u001b[39m \u001b[38;5;241m0\u001b[39m\n",
      "\u001b[0;31mZeroDivisionError\u001b[0m: division by zero"
     ]
    }
   ],
   "source": [
    "num = 10 / 0"
   ]
  },
  {
   "cell_type": "code",
   "execution_count": 2,
   "id": "440cf20b-e82a-41dc-8cfc-6f912767c443",
   "metadata": {},
   "outputs": [
    {
     "name": "stdout",
     "output_type": "stream",
     "text": [
      "0で割ることはできません\n"
     ]
    }
   ],
   "source": [
    "try:\n",
    "    num = 10 / 0\n",
    "    print(f'除算の結果は{num}になります！')\n",
    "except ZeroDivisionError:\n",
    "    print('0で割ることはできません')"
   ]
  },
  {
   "cell_type": "code",
   "execution_count": 3,
   "id": "e8b99d04-4f32-40b0-a7e2-d5d3b557a9fc",
   "metadata": {},
   "outputs": [
    {
     "name": "stdout",
     "output_type": "stream",
     "text": [
      "文字列で割ることはできません\n"
     ]
    }
   ],
   "source": [
    "try:\n",
    "    num = 10 / '2'\n",
    "except ZeroDivisionError:\n",
    "    print('0で割ることはできません')\n",
    "except TypeError:\n",
    "    print('文字列で割ることはできません')"
   ]
  },
  {
   "cell_type": "code",
   "execution_count": 4,
   "id": "5ced94b7-8bfc-48aa-83d7-5b38c138f987",
   "metadata": {},
   "outputs": [
    {
     "name": "stdout",
     "output_type": "stream",
     "text": [
      "Exceptions class: <class 'ZeroDivisionError'>\n",
      "Exceptions occurred: division by zero\n"
     ]
    }
   ],
   "source": [
    "try:\n",
    "    num = 10 / 0\n",
    "    print(f'除算の結果は{num}になります')\n",
    "except (ZeroDivisionError, TypeError, NameError) as e:\n",
    "    print(f'Exceptions class: {type(e)}')\n",
    "    print(f'Exceptions occurred: {e}')"
   ]
  },
  {
   "cell_type": "code",
   "execution_count": 5,
   "id": "16bb1673-598c-4d3b-9321-c1425ea9e320",
   "metadata": {},
   "outputs": [
    {
     "name": "stdout",
     "output_type": "stream",
     "text": [
      "除算の結果は2.0になります\n"
     ]
    }
   ],
   "source": [
    "try:\n",
    "    num = 10 / 5\n",
    "except ZeroDivisionError:\n",
    "    print('0で割ることはできません')\n",
    "else:\n",
    "    print(f'除算の結果は{num}になります')"
   ]
  },
  {
   "cell_type": "code",
   "execution_count": 6,
   "id": "c2f24b58-7b2d-449a-a766-c35987c3003a",
   "metadata": {},
   "outputs": [
    {
     "name": "stdout",
     "output_type": "stream",
     "text": [
      "ファイルを閉じました\n"
     ]
    },
    {
     "ename": "NameError",
     "evalue": "name 'data' is not defined",
     "output_type": "error",
     "traceback": [
      "\u001b[0;31m---------------------------------------------------------------------------\u001b[0m",
      "\u001b[0;31mNameError\u001b[0m                                 Traceback (most recent call last)",
      "Cell \u001b[0;32mIn[6], line 4\u001b[0m\n\u001b[1;32m      2\u001b[0m \u001b[38;5;28;01mtry\u001b[39;00m:\n\u001b[1;32m      3\u001b[0m     f \u001b[38;5;241m=\u001b[39m \u001b[38;5;28mopen\u001b[39m(\u001b[38;5;124m'\u001b[39m\u001b[38;5;124mpython.txt\u001b[39m\u001b[38;5;124m'\u001b[39m, mode\u001b[38;5;241m=\u001b[39m\u001b[38;5;124m'\u001b[39m\u001b[38;5;124mw\u001b[39m\u001b[38;5;124m'\u001b[39m) \n\u001b[0;32m----> 4\u001b[0m     f\u001b[38;5;241m.\u001b[39mwrite(data)  \n\u001b[1;32m      5\u001b[0m \u001b[38;5;28;01mfinally\u001b[39;00m:\n\u001b[1;32m      6\u001b[0m     \u001b[38;5;28;01mif\u001b[39;00m f:\n",
      "\u001b[0;31mNameError\u001b[0m: name 'data' is not defined"
     ]
    }
   ],
   "source": [
    "f = None\n",
    "try:\n",
    "    f = open('python.txt', mode='w') \n",
    "    f.write(data)  \n",
    "finally:\n",
    "    if f:\n",
    "        f.close()  \n",
    "        print('ファイルを閉じました') "
   ]
  },
  {
   "cell_type": "code",
   "execution_count": 7,
   "id": "1bf37e51-062a-4ee6-915f-01b155f82716",
   "metadata": {},
   "outputs": [
    {
     "name": "stdout",
     "output_type": "stream",
     "text": [
      "Exceptions class: <class 'ZeroDivisionError'>\n",
      "Exceptions occurred: division by zero\n"
     ]
    }
   ],
   "source": [
    "try:\n",
    "    num = 10 / 0\n",
    "    print(f\"除算の結果は{num}になります\")\n",
    "except ArithmeticError as e:\n",
    "    print(f'Exceptions class: {type(e)}')\n",
    "    print(f'Exceptions occurred: {e}')"
   ]
  },
  {
   "cell_type": "code",
   "execution_count": 8,
   "id": "967f0a72-a49c-4cb3-a0c9-db4ba7449e93",
   "metadata": {},
   "outputs": [
    {
     "ename": "MyError",
     "evalue": "MyErrorが発生しました",
     "output_type": "error",
     "traceback": [
      "\u001b[0;31m---------------------------------------------------------------------------\u001b[0m",
      "\u001b[0;31mMyError\u001b[0m                                   Traceback (most recent call last)",
      "Cell \u001b[0;32mIn[8], line 4\u001b[0m\n\u001b[1;32m      1\u001b[0m \u001b[38;5;28;01mclass\u001b[39;00m \u001b[38;5;21;01mMyError\u001b[39;00m(\u001b[38;5;167;01mException\u001b[39;00m):\n\u001b[1;32m      2\u001b[0m     \u001b[38;5;28;01mpass\u001b[39;00m\n\u001b[0;32m----> 4\u001b[0m \u001b[38;5;28;01mraise\u001b[39;00m MyError(\u001b[38;5;124m'\u001b[39m\u001b[38;5;124mMyErrorが発生しました\u001b[39m\u001b[38;5;124m'\u001b[39m)\n",
      "\u001b[0;31mMyError\u001b[0m: MyErrorが発生しました"
     ]
    }
   ],
   "source": [
    "class MyError(Exception):\n",
    "    pass\n",
    "\n",
    "raise MyError('MyErrorが発生しました')"
   ]
  },
  {
   "cell_type": "code",
   "execution_count": 14,
   "id": "c48f929b-8856-4f59-966b-929d1189201b",
   "metadata": {},
   "outputs": [
    {
     "name": "stdout",
     "output_type": "stream",
     "text": [
      "True\n",
      "True\n"
     ]
    }
   ],
   "source": [
    "file_obj = open('python.txt')\n",
    "file_dir = dir(file_obj)\n",
    "print('__enter__' in file_dir)\n",
    "print('__exit__' in file_dir)"
   ]
  },
  {
   "cell_type": "code",
   "execution_count": 15,
   "id": "91f3119e-5289-4fd6-ae02-37df2ec0872c",
   "metadata": {},
   "outputs": [
    {
     "name": "stdout",
     "output_type": "stream",
     "text": [
      "--enter--：ファイルをopenします\n",
      "Python!\n",
      "--exit--：ファイルをcloseします\n"
     ]
    }
   ],
   "source": [
    "class MyOpenContextManager:\n",
    "    def __init__(self, file_name):\n",
    "        self.file_name = file_name\n",
    "\n",
    "    def __enter__(self):\n",
    "        print('--enter--：ファイルをopenします')\n",
    "        self.file_obj = open(self.file_name, 'r')\n",
    "        return self.file_obj\n",
    "\n",
    "    def __exit__(self, type, value, traceback):\n",
    "        print('--exit--：ファイルをcloseします')\n",
    "        self.file_obj.close()\n",
    "\n",
    "\n",
    "with MyOpenContextManager('python.txt') as f:\n",
    "    print(f.read())"
   ]
  },
  {
   "cell_type": "code",
   "execution_count": 16,
   "id": "d918e44f-1e66-430d-822a-282c8e2e6e0e",
   "metadata": {},
   "outputs": [
    {
     "name": "stdout",
     "output_type": "stream",
     "text": [
      "--enter--：ファイルをopenします\n",
      "Python!\n",
      "--exit__(type): <class 'ValueError'>\n",
      "--exit__(value): my context manager error\n",
      "--exit__(traceback): <traceback object at 0x111fc1dc0>\n",
      "--exit--：ファイルをcloseします\n"
     ]
    },
    {
     "ename": "ValueError",
     "evalue": "my context manager error",
     "output_type": "error",
     "traceback": [
      "\u001b[0;31m---------------------------------------------------------------------------\u001b[0m",
      "\u001b[0;31mValueError\u001b[0m                                Traceback (most recent call last)",
      "Cell \u001b[0;32mIn[16], line 20\u001b[0m\n\u001b[1;32m     18\u001b[0m \u001b[38;5;28;01mwith\u001b[39;00m MyOpenContextManager(\u001b[38;5;124m'\u001b[39m\u001b[38;5;124mpython.txt\u001b[39m\u001b[38;5;124m'\u001b[39m) \u001b[38;5;28;01mas\u001b[39;00m f:\n\u001b[1;32m     19\u001b[0m     \u001b[38;5;28mprint\u001b[39m(f\u001b[38;5;241m.\u001b[39mread())\n\u001b[0;32m---> 20\u001b[0m     \u001b[38;5;28;01mraise\u001b[39;00m \u001b[38;5;167;01mValueError\u001b[39;00m(\u001b[38;5;124m'\u001b[39m\u001b[38;5;124mmy context manager error\u001b[39m\u001b[38;5;124m'\u001b[39m)\n",
      "\u001b[0;31mValueError\u001b[0m: my context manager error"
     ]
    }
   ],
   "source": [
    "class MyOpenContextManager:\n",
    "    def __init__(self, file_name):\n",
    "        self.file_name = file_name\n",
    "\n",
    "    def __enter__(self):\n",
    "        print('--enter--：ファイルをopenします')\n",
    "        self.file_obj = open(self.file_name, 'r')\n",
    "        return self.file_obj\n",
    "\n",
    "    def __exit__(self, type, value, traceback):\n",
    "        print(f'--exit__(type): {type}')\n",
    "        print(f'--exit__(value): {value}')\n",
    "        print(f'--exit__(traceback): {traceback}')\n",
    "        print('--exit--：ファイルをcloseします')\n",
    "        self.file_obj.close()\n",
    "\n",
    "\n",
    "with MyOpenContextManager('python.txt') as f:\n",
    "    print(f.read())\n",
    "    raise ValueError('my context manager error')"
   ]
  },
  {
   "cell_type": "code",
   "execution_count": 17,
   "id": "71181ba7-1b9d-4691-bcbe-e9d08e4e043e",
   "metadata": {},
   "outputs": [
    {
     "name": "stdout",
     "output_type": "stream",
     "text": [
      "--enter--：ファイルをopenします\n",
      "Python!\n",
      "--exit--：ファイルをcloseします\n"
     ]
    }
   ],
   "source": [
    "import contextlib\n",
    "import traceback\n",
    "\n",
    "@contextlib.contextmanager\n",
    "def my_open_context_manager(file_name):\n",
    "    file_obj = open(file_name, 'r')\n",
    "    try:\n",
    "        print('--enter--：ファイルをopenします')\n",
    "        yield file_obj\n",
    "    except Exception as e:\n",
    "        print(f'--exit--：{type(e)}')\n",
    "        print(f'--exit--：{e}')\n",
    "        print(f'--exit--：{list(traceback.TracebackException.from_exception(e).format())}')\n",
    "        raise\n",
    "    finally:\n",
    "        file_obj.close()\n",
    "        print('--exit--：ファイルをcloseします')\n",
    "\n",
    "\n",
    "with my_open_context_manager('python.txt') as f:\n",
    "    print(f.read())"
   ]
  },
  {
   "cell_type": "code",
   "execution_count": 18,
   "id": "f7ab1787-5ab4-4ecd-bd0b-ac3389f9bad1",
   "metadata": {},
   "outputs": [
    {
     "name": "stdout",
     "output_type": "stream",
     "text": [
      "--enter--：ファイルをopenします\n",
      "Python!\n",
      "--exit--：ファイルをcloseします\n"
     ]
    },
    {
     "ename": "ValueError",
     "evalue": "my context manager error",
     "output_type": "error",
     "traceback": [
      "\u001b[0;31m---------------------------------------------------------------------------\u001b[0m",
      "\u001b[0;31mValueError\u001b[0m                                Traceback (most recent call last)",
      "Cell \u001b[0;32mIn[18], line 15\u001b[0m\n\u001b[1;32m     13\u001b[0m \u001b[38;5;28;01mwith\u001b[39;00m my_open_context_manager(\u001b[38;5;124m'\u001b[39m\u001b[38;5;124mpython.txt\u001b[39m\u001b[38;5;124m'\u001b[39m) \u001b[38;5;28;01mas\u001b[39;00m f:\n\u001b[1;32m     14\u001b[0m     \u001b[38;5;28mprint\u001b[39m(f\u001b[38;5;241m.\u001b[39mread())\n\u001b[0;32m---> 15\u001b[0m     \u001b[38;5;28;01mraise\u001b[39;00m \u001b[38;5;167;01mValueError\u001b[39;00m(\u001b[38;5;124m'\u001b[39m\u001b[38;5;124mmy context manager error\u001b[39m\u001b[38;5;124m'\u001b[39m)\n",
      "\u001b[0;31mValueError\u001b[0m: my context manager error"
     ]
    }
   ],
   "source": [
    "import contextlib\n",
    "\n",
    "@contextlib.contextmanager\n",
    "def my_open_context_manager(file_name):\n",
    "    file_obj = open(file_name, 'r')\n",
    "    print('--enter--：ファイルをopenします')\n",
    "    try:\n",
    "        yield file_obj\n",
    "    finally:\n",
    "        print('--exit--：ファイルをcloseします')\n",
    "        file_obj.close()\n",
    "\n",
    "with my_open_context_manager('python.txt') as f:\n",
    "    print(f.read())\n",
    "    raise ValueError('my context manager error')"
   ]
  },
  {
   "cell_type": "code",
   "execution_count": 19,
   "id": "9ca171d8-1798-4685-bf2e-2a3c196b63ff",
   "metadata": {},
   "outputs": [
    {
     "name": "stdout",
     "output_type": "stream",
     "text": [
      "sleep processing: (total: 2.0037600994110107)\n"
     ]
    }
   ],
   "source": [
    "import contextlib\n",
    "from time import sleep, time\n",
    "\n",
    "@contextlib.contextmanager\n",
    "def timed(func_name):\n",
    "    start = time()\n",
    "    try:\n",
    "        yield\n",
    "    finally:\n",
    "        end = time()\n",
    "        print(f'{func_name}: (total: {end - start})')\n",
    "\n",
    "with timed('sleep processing'):\n",
    "    sleep(2)"
   ]
  },
  {
   "cell_type": "code",
   "execution_count": 20,
   "id": "6e98d169-e981-4ca9-8fc0-65bf943a2cdd",
   "metadata": {},
   "outputs": [],
   "source": [
    "import contextlib\n",
    "import os\n",
    "\n",
    "with contextlib.suppress(FileNotFoundError):\n",
    "    os.remove('sample.txt')\n",
    "\n",
    "with open('sample.log', 'w') as f:\n",
    "    with contextlib.redirect_stdout(f):\n",
    "        print('log write')"
   ]
  },
  {
   "cell_type": "code",
   "execution_count": 22,
   "id": "39478c10-eb0e-4112-9486-603570532124",
   "metadata": {},
   "outputs": [
    {
     "name": "stdout",
     "output_type": "stream",
     "text": [
      "spam, ham, egg\n"
     ]
    }
   ],
   "source": [
    "def sample_func(param, param2, param3):\n",
    "    print(f'{param}, {param2}, {param3}')\n",
    "\n",
    "sample_func('spam', 'ham', 'egg')"
   ]
  },
  {
   "cell_type": "code",
   "execution_count": 23,
   "id": "1e038b86-312c-41e7-a475-dbc2611094a8",
   "metadata": {},
   "outputs": [
    {
     "ename": "TypeError",
     "evalue": "sample_func() takes 3 positional arguments but 4 were given",
     "output_type": "error",
     "traceback": [
      "\u001b[0;31m---------------------------------------------------------------------------\u001b[0m",
      "\u001b[0;31mTypeError\u001b[0m                                 Traceback (most recent call last)",
      "Cell \u001b[0;32mIn[23], line 1\u001b[0m\n\u001b[0;32m----> 1\u001b[0m sample_func(\u001b[38;5;124m'\u001b[39m\u001b[38;5;124mspam\u001b[39m\u001b[38;5;124m'\u001b[39m, \u001b[38;5;124m'\u001b[39m\u001b[38;5;124mham\u001b[39m\u001b[38;5;124m'\u001b[39m, \u001b[38;5;124m'\u001b[39m\u001b[38;5;124megg\u001b[39m\u001b[38;5;124m'\u001b[39m, \u001b[38;5;124m'\u001b[39m\u001b[38;5;124mcola\u001b[39m\u001b[38;5;124m'\u001b[39m)\n",
      "\u001b[0;31mTypeError\u001b[0m: sample_func() takes 3 positional arguments but 4 were given"
     ]
    }
   ],
   "source": [
    "sample_func('spam', 'ham', 'egg', 'cola')"
   ]
  },
  {
   "cell_type": "code",
   "execution_count": 25,
   "id": "8fd9a71e-d8d9-4019-97dd-49280409584f",
   "metadata": {},
   "outputs": [
    {
     "name": "stdout",
     "output_type": "stream",
     "text": [
      "1, 2, 3\n"
     ]
    }
   ],
   "source": [
    "def sample_func(param1, param2, param3):\n",
    "    print(f'{param1}, {param2}, {param3}')\n",
    "\n",
    "sample_func(param3=3, param2=2, param1=1)"
   ]
  },
  {
   "cell_type": "code",
   "execution_count": 26,
   "id": "2fac081e-6ca1-4698-b512-a483f693c3f4",
   "metadata": {},
   "outputs": [
    {
     "ename": "TypeError",
     "evalue": "sample_func() got an unexpected keyword argument 'param4'",
     "output_type": "error",
     "traceback": [
      "\u001b[0;31m---------------------------------------------------------------------------\u001b[0m",
      "\u001b[0;31mTypeError\u001b[0m                                 Traceback (most recent call last)",
      "Cell \u001b[0;32mIn[26], line 1\u001b[0m\n\u001b[0;32m----> 1\u001b[0m sample_func(param3\u001b[38;5;241m=\u001b[39m\u001b[38;5;241m3\u001b[39m, param2\u001b[38;5;241m=\u001b[39m\u001b[38;5;241m2\u001b[39m, param1\u001b[38;5;241m=\u001b[39m\u001b[38;5;241m1\u001b[39m, param4\u001b[38;5;241m=\u001b[39m\u001b[38;5;241m4\u001b[39m)\n",
      "\u001b[0;31mTypeError\u001b[0m: sample_func() got an unexpected keyword argument 'param4'"
     ]
    }
   ],
   "source": [
    "sample_func(param3=3, param2=2, param1=1, param4=4)"
   ]
  },
  {
   "cell_type": "code",
   "execution_count": 27,
   "id": "aa2e3d64-57c4-49f5-a5fe-2780a12b5dbe",
   "metadata": {},
   "outputs": [
    {
     "name": "stdout",
     "output_type": "stream",
     "text": [
      "1, 2, 3\n"
     ]
    }
   ],
   "source": [
    "def sample_func(param1, param2, param3):\n",
    "    print(f'{param1}, {param2}, {param3}')\n",
    "\n",
    "sample_func(1, param2=2, param3=3)"
   ]
  },
  {
   "cell_type": "code",
   "execution_count": 28,
   "id": "5fb316df-e6a3-4fd3-819e-598010578e62",
   "metadata": {},
   "outputs": [
    {
     "ename": "SyntaxError",
     "evalue": "positional argument follows keyword argument (1300974153.py, line 1)",
     "output_type": "error",
     "traceback": [
      "\u001b[0;36m  Cell \u001b[0;32mIn[28], line 1\u001b[0;36m\u001b[0m\n\u001b[0;31m    sample_func(param3=3, 1, 2)\u001b[0m\n\u001b[0m                              ^\u001b[0m\n\u001b[0;31mSyntaxError\u001b[0m\u001b[0;31m:\u001b[0m positional argument follows keyword argument\n"
     ]
    }
   ],
   "source": [
    "sample_func(param3=3, 1, 2)"
   ]
  },
  {
   "cell_type": "code",
   "execution_count": 29,
   "id": "87811155-0f06-439d-8d38-10ce46ace63b",
   "metadata": {},
   "outputs": [
    {
     "ename": "TypeError",
     "evalue": "sample_func() got multiple values for argument 'param1'",
     "output_type": "error",
     "traceback": [
      "\u001b[0;31m---------------------------------------------------------------------------\u001b[0m",
      "\u001b[0;31mTypeError\u001b[0m                                 Traceback (most recent call last)",
      "Cell \u001b[0;32mIn[29], line 1\u001b[0m\n\u001b[0;32m----> 1\u001b[0m sample_func(\u001b[38;5;241m1\u001b[39m, \u001b[38;5;241m2\u001b[39m, param1\u001b[38;5;241m=\u001b[39m\u001b[38;5;241m3\u001b[39m)\n",
      "\u001b[0;31mTypeError\u001b[0m: sample_func() got multiple values for argument 'param1'"
     ]
    }
   ],
   "source": [
    "sample_func(1, 2, param1=3)"
   ]
  },
  {
   "cell_type": "code",
   "execution_count": 31,
   "id": "4190ec5a-b6a4-415d-9855-841a562e8973",
   "metadata": {},
   "outputs": [
    {
     "name": "stdout",
     "output_type": "stream",
     "text": [
      "1, 2, 3\n",
      "1, 20, 3\n",
      "1, 2, hoge\n",
      "10, 20, 30\n"
     ]
    }
   ],
   "source": [
    "def sample_func(param1, param2=2, param3=3):\n",
    "    print(f'{param1}, {param2}, {param3}')\n",
    "\n",
    "sample_func(1)\n",
    "sample_func(1, 20)\n",
    "sample_func(1, param3='hoge')\n",
    "sample_func(10, 20, 30)"
   ]
  },
  {
   "cell_type": "code",
   "execution_count": 32,
   "id": "e03dec23-a4b3-4273-a82a-f483db1ac940",
   "metadata": {},
   "outputs": [
    {
     "ename": "SyntaxError",
     "evalue": "parameter without a default follows parameter with a default (1469636878.py, line 1)",
     "output_type": "error",
     "traceback": [
      "\u001b[0;36m  Cell \u001b[0;32mIn[32], line 1\u001b[0;36m\u001b[0m\n\u001b[0;31m    def sample_func(param1=1, param2, param3=3):  # param2 是无默认值参数，却放在带默认值参数 param1 的后面\u001b[0m\n\u001b[0m                              ^\u001b[0m\n\u001b[0;31mSyntaxError\u001b[0m\u001b[0;31m:\u001b[0m parameter without a default follows parameter with a default\n"
     ]
    }
   ],
   "source": [
    "def sample_func(param1=1, param2, param3=3):  # param2 是无默认值参数，却放在带默认值参数 param1 的后面\n",
    "    print(f'{param1}, {param2}, {param3}')"
   ]
  },
  {
   "cell_type": "code",
   "execution_count": 33,
   "id": "050e7770-4701-4d78-8530-c702acf53509",
   "metadata": {},
   "outputs": [
    {
     "data": {
      "text/plain": [
       "15"
      ]
     },
     "execution_count": 33,
     "metadata": {},
     "output_type": "execute_result"
    }
   ],
   "source": [
    "def func_sum(*args):\n",
    "    total = 0\n",
    "    for num in args:\n",
    "        total += num\n",
    "    return total\n",
    "\n",
    "func_sum(1, 2, 3, 4, 5)"
   ]
  },
  {
   "cell_type": "code",
   "execution_count": 34,
   "id": "114b0e6c-1789-47a7-949f-a96e6f5d1721",
   "metadata": {},
   "outputs": [
    {
     "data": {
      "text/plain": [
       "15"
      ]
     },
     "execution_count": 34,
     "metadata": {},
     "output_type": "execute_result"
    }
   ],
   "source": [
    "num = [1, 2, 3, 4, 5]\n",
    "func_sum(*num)"
   ]
  },
  {
   "cell_type": "code",
   "execution_count": 35,
   "id": "67214087-12d0-4e3d-95ce-62080da9806b",
   "metadata": {},
   "outputs": [
    {
     "data": {
      "text/plain": [
       "15"
      ]
     },
     "execution_count": 35,
     "metadata": {},
     "output_type": "execute_result"
    }
   ],
   "source": [
    "num = (1, 2, 3, 4, 5)\n",
    "func_sum(*num)"
   ]
  },
  {
   "cell_type": "code",
   "execution_count": 37,
   "id": "0b65fdf5-a7df-47a9-9dde-252519ecc2c7",
   "metadata": {},
   "outputs": [
    {
     "name": "stdout",
     "output_type": "stream",
     "text": [
      "param1=1\n",
      "param2=2\n",
      "args=(3, 4, 5)\n"
     ]
    }
   ],
   "source": [
    "def sample_func(param1, param2, *args):\n",
    "    print(f'param1={param1}')\n",
    "    print(f'param2={param2}')\n",
    "    print(f'args={args}')\n",
    "\n",
    "sample_func(1, 2, 3, 4, 5)"
   ]
  },
  {
   "cell_type": "code",
   "execution_count": 45,
   "id": "c5cd431c-c9b2-4793-b58f-fd98f9832adb",
   "metadata": {},
   "outputs": [],
   "source": [
    "def sample_func2(param1, default_arg=0, *args):\n",
    "    print(f'param1={param1}')\n",
    "    print(f'args={args}')\n",
    "    print(f'default_arg={default_arg}')"
   ]
  },
  {
   "cell_type": "code",
   "execution_count": 46,
   "id": "b8a12e13-0ebf-4cb7-ba30-f3b8b85adc02",
   "metadata": {},
   "outputs": [
    {
     "ename": "SyntaxError",
     "evalue": "positional argument follows keyword argument (113360987.py, line 1)",
     "output_type": "error",
     "traceback": [
      "\u001b[0;36m  Cell \u001b[0;32mIn[46], line 1\u001b[0;36m\u001b[0m\n\u001b[0;31m    sample_func2(1, default_arg=10, 2, 3, 4, 5)\u001b[0m\n\u001b[0m                                              ^\u001b[0m\n\u001b[0;31mSyntaxError\u001b[0m\u001b[0;31m:\u001b[0m positional argument follows keyword argument\n"
     ]
    }
   ],
   "source": [
    "sample_func2(1, default_arg=10, 2, 3, 4, 5)"
   ]
  },
  {
   "cell_type": "code",
   "execution_count": 47,
   "id": "6e2b9c8e-d4b5-44ad-aa4a-d4f1fe1ff0bf",
   "metadata": {},
   "outputs": [
    {
     "ename": "TypeError",
     "evalue": "sample_func2() got multiple values for argument 'default_arg'",
     "output_type": "error",
     "traceback": [
      "\u001b[0;31m---------------------------------------------------------------------------\u001b[0m",
      "\u001b[0;31mTypeError\u001b[0m                                 Traceback (most recent call last)",
      "Cell \u001b[0;32mIn[47], line 1\u001b[0m\n\u001b[0;32m----> 1\u001b[0m sample_func2(\u001b[38;5;241m1\u001b[39m, \u001b[38;5;241m2\u001b[39m, \u001b[38;5;241m3\u001b[39m, \u001b[38;5;241m4\u001b[39m, \u001b[38;5;241m5\u001b[39m, default_arg\u001b[38;5;241m=\u001b[39m\u001b[38;5;241m10\u001b[39m)\n",
      "\u001b[0;31mTypeError\u001b[0m: sample_func2() got multiple values for argument 'default_arg'"
     ]
    }
   ],
   "source": [
    "sample_func2(1, 2, 3, 4, 5, default_arg=10)"
   ]
  },
  {
   "cell_type": "code",
   "execution_count": 48,
   "id": "84365b27-b743-411d-88e0-5a90c1cf0025",
   "metadata": {},
   "outputs": [
    {
     "name": "stdout",
     "output_type": "stream",
     "text": [
      "param1=1\n",
      "args=(2, 3, 4, 5)\n",
      "default_arg=10\n"
     ]
    }
   ],
   "source": [
    "sample_func2(1, 10, 2, 3, 4, 5)"
   ]
  },
  {
   "cell_type": "code",
   "execution_count": 50,
   "id": "efccdccd-c6d4-42da-a6a0-5cfcf2c61832",
   "metadata": {},
   "outputs": [
    {
     "name": "stdout",
     "output_type": "stream",
     "text": [
      "name=john\n",
      "age: 30\n",
      "email: john@example.com\n"
     ]
    }
   ],
   "source": [
    "def sample_func(name, **kwargs):\n",
    "    print(f'name={name}')\n",
    "    for key, value in kwargs.items():\n",
    "        print(f'{key}: {value}')\n",
    "\n",
    "sample_func('john', age=30, email='john@example.com')"
   ]
  },
  {
   "cell_type": "code",
   "execution_count": 53,
   "id": "20695947-2986-4c8a-86cb-eef0fef83186",
   "metadata": {},
   "outputs": [
    {
     "name": "stdout",
     "output_type": "stream",
     "text": [
      "name=john\n",
      "age: 30\n",
      "email: john@example.com\n"
     ]
    }
   ],
   "source": [
    "user_dict = {'name': 'john', 'age': 30, 'email': 'john@example.com'}\n",
    "sample_func(**user_dict)"
   ]
  },
  {
   "cell_type": "code",
   "execution_count": 54,
   "id": "c9d0a671-a8b7-40fc-adf3-aacadd6581a0",
   "metadata": {},
   "outputs": [
    {
     "name": "stdout",
     "output_type": "stream",
     "text": [
      "param1=1\n",
      "args=(2, 3)\n",
      "default_arg=100\n",
      "kwargs={'keyword1': 'keyword1', 'keyword2': 'keyword2'}\n"
     ]
    }
   ],
   "source": [
    "def sample_func(param, *args, default_arg=0, **kwargs):\n",
    "    print(f'param1={param}')\n",
    "    print(f'args={args}')\n",
    "    print(f'default_arg={default_arg}')\n",
    "    print(f'kwargs={kwargs}')\n",
    "\n",
    "sample_func(1, 2, 3, default_arg=100, keyword1='keyword1', keyword2='keyword2')"
   ]
  },
  {
   "cell_type": "code",
   "execution_count": 55,
   "id": "598c1866-2ef8-4176-a7a5-a10aa2d5f6ff",
   "metadata": {},
   "outputs": [
    {
     "name": "stdout",
     "output_type": "stream",
     "text": [
      "1, False\n"
     ]
    }
   ],
   "source": [
    "def sample_func(param1, *, keyword1):\n",
    "    print(f'{param1}, {keyword1}')\n",
    "\n",
    "sample_func(1, keyword1=False)"
   ]
  },
  {
   "cell_type": "code",
   "execution_count": 57,
   "id": "c0b7ee2f-2f81-4dea-862e-98e558f3bebe",
   "metadata": {},
   "outputs": [
    {
     "ename": "TypeError",
     "evalue": "sample_func() takes 1 positional argument but 2 were given",
     "output_type": "error",
     "traceback": [
      "\u001b[0;31m---------------------------------------------------------------------------\u001b[0m",
      "\u001b[0;31mTypeError\u001b[0m                                 Traceback (most recent call last)",
      "Cell \u001b[0;32mIn[57], line 1\u001b[0m\n\u001b[0;32m----> 1\u001b[0m sample_func(\u001b[38;5;241m1\u001b[39m, \u001b[38;5;28;01mFalse\u001b[39;00m)\n",
      "\u001b[0;31mTypeError\u001b[0m: sample_func() takes 1 positional argument but 2 were given"
     ]
    }
   ],
   "source": [
    "sample_func(1, False)"
   ]
  },
  {
   "cell_type": "code",
   "execution_count": 58,
   "id": "0f213cee-c24e-45c7-b53b-f17619b9687d",
   "metadata": {},
   "outputs": [
    {
     "data": {
      "text/plain": [
       "3"
      ]
     },
     "execution_count": 58,
     "metadata": {},
     "output_type": "execute_result"
    }
   ],
   "source": [
    "def add(x, y, /):\n",
    "    return x + y\n",
    "\n",
    "add(1, 2)"
   ]
  },
  {
   "cell_type": "code",
   "execution_count": 59,
   "id": "b01f48d1-2da1-4894-8996-b10e28051036",
   "metadata": {},
   "outputs": [
    {
     "ename": "TypeError",
     "evalue": "add() got some positional-only arguments passed as keyword arguments: 'x, y'",
     "output_type": "error",
     "traceback": [
      "\u001b[0;31m---------------------------------------------------------------------------\u001b[0m",
      "\u001b[0;31mTypeError\u001b[0m                                 Traceback (most recent call last)",
      "Cell \u001b[0;32mIn[59], line 1\u001b[0m\n\u001b[0;32m----> 1\u001b[0m add(x\u001b[38;5;241m=\u001b[39m\u001b[38;5;241m1\u001b[39m, y\u001b[38;5;241m=\u001b[39m\u001b[38;5;241m2\u001b[39m)\n",
      "\u001b[0;31mTypeError\u001b[0m: add() got some positional-only arguments passed as keyword arguments: 'x, y'"
     ]
    }
   ],
   "source": [
    "add(x=1, y=2)"
   ]
  },
  {
   "cell_type": "code",
   "execution_count": 60,
   "id": "707372e6-d741-41a1-a03e-f957c22ef84d",
   "metadata": {},
   "outputs": [
    {
     "data": {
      "text/plain": [
       "6"
      ]
     },
     "execution_count": 60,
     "metadata": {},
     "output_type": "execute_result"
    }
   ],
   "source": [
    "num = (1, 2, 3)\n",
    "sum(num)"
   ]
  },
  {
   "cell_type": "code",
   "execution_count": 61,
   "id": "db50fb62-cf77-4565-9a8b-07c538cec4a6",
   "metadata": {},
   "outputs": [
    {
     "data": {
      "text/plain": [
       "106"
      ]
     },
     "execution_count": 61,
     "metadata": {},
     "output_type": "execute_result"
    }
   ],
   "source": [
    "sum(num, start=100)"
   ]
  },
  {
   "cell_type": "code",
   "execution_count": 62,
   "id": "129b6b7a-ce7a-4c9c-baec-cc02a662debc",
   "metadata": {},
   "outputs": [
    {
     "data": {
      "text/plain": [
       "3"
      ]
     },
     "execution_count": 62,
     "metadata": {},
     "output_type": "execute_result"
    }
   ],
   "source": [
    "def add(a, b):\n",
    "    return a + b\n",
    "\n",
    "add(1, 2)"
   ]
  },
  {
   "cell_type": "code",
   "execution_count": 63,
   "id": "a3fe3e5e-f16f-406f-871d-6c6c152a8b84",
   "metadata": {},
   "outputs": [
    {
     "data": {
      "text/plain": [
       "3"
      ]
     },
     "execution_count": 63,
     "metadata": {},
     "output_type": "execute_result"
    }
   ],
   "source": [
    "def add(a, b, c=0):\n",
    "    return a + b + c\n",
    "\n",
    "add(1, 2)"
   ]
  },
  {
   "cell_type": "code",
   "execution_count": 64,
   "id": "6dbd2d45-ab7c-407f-866f-5cf421ce50d1",
   "metadata": {},
   "outputs": [
    {
     "data": {
      "text/plain": [
       "6"
      ]
     },
     "execution_count": 64,
     "metadata": {},
     "output_type": "execute_result"
    }
   ],
   "source": [
    "add(1, 2, 3)"
   ]
  },
  {
   "cell_type": "code",
   "execution_count": 65,
   "id": "6203c3a6-50c2-4c94-a708-e422b6c577b7",
   "metadata": {},
   "outputs": [],
   "source": [
    "def sample_func(a, b, c=None):\n",
    "    if c is None:\n",
    "        c = []  \n",
    "    c.append(a + b)\n",
    "    return c"
   ]
  },
  {
   "cell_type": "code",
   "execution_count": 66,
   "id": "4077d1eb-3c4f-47d7-884e-de1f38db5d66",
   "metadata": {},
   "outputs": [
    {
     "data": {
      "text/plain": [
       "[3]"
      ]
     },
     "execution_count": 66,
     "metadata": {},
     "output_type": "execute_result"
    }
   ],
   "source": [
    "sample_func(1, 2)"
   ]
  },
  {
   "cell_type": "code",
   "execution_count": 67,
   "id": "01537204-265b-4042-9be6-186a3a7e3921",
   "metadata": {},
   "outputs": [
    {
     "data": {
      "text/plain": [
       "[7]"
      ]
     },
     "execution_count": 67,
     "metadata": {},
     "output_type": "execute_result"
    }
   ],
   "source": [
    "sample_func(3, 4)"
   ]
  },
  {
   "cell_type": "code",
   "execution_count": 68,
   "id": "4ada43db-b8d5-4ca9-954f-644e781bc33f",
   "metadata": {},
   "outputs": [
    {
     "data": {
      "text/plain": [
       "[11]"
      ]
     },
     "execution_count": 68,
     "metadata": {},
     "output_type": "execute_result"
    }
   ],
   "source": [
    "sample_func(5, 6)"
   ]
  },
  {
   "cell_type": "code",
   "execution_count": 69,
   "id": "2bc7deb6-0e77-4ed0-a7a3-fef617eb15c4",
   "metadata": {},
   "outputs": [
    {
     "data": {
      "text/plain": [
       "[3]"
      ]
     },
     "execution_count": 69,
     "metadata": {},
     "output_type": "execute_result"
    }
   ],
   "source": [
    "def sample_func(a, b, c=None):\n",
    "    if c is None:\n",
    "        c = []\n",
    "    c.append(a + b)\n",
    "    return c\n",
    "\n",
    "sample_func(1, 2)"
   ]
  },
  {
   "cell_type": "code",
   "execution_count": 70,
   "id": "ddf142b5-b797-4aff-8198-b9c48806b7dd",
   "metadata": {},
   "outputs": [
    {
     "data": {
      "text/plain": [
       "[7]"
      ]
     },
     "execution_count": 70,
     "metadata": {},
     "output_type": "execute_result"
    }
   ],
   "source": [
    "sample_func(3, 4)"
   ]
  },
  {
   "cell_type": "code",
   "execution_count": 72,
   "id": "2713e314-aef6-4e16-a6d1-74f5582bd04f",
   "metadata": {},
   "outputs": [
    {
     "data": {
      "text/plain": [
       "[11]"
      ]
     },
     "execution_count": 72,
     "metadata": {},
     "output_type": "execute_result"
    }
   ],
   "source": [
    "sample_func(5, 6)"
   ]
  },
  {
   "cell_type": "code",
   "execution_count": 76,
   "id": "e0a6c1e1-103b-42a5-adc4-611214b09ce6",
   "metadata": {},
   "outputs": [
    {
     "name": "stdout",
     "output_type": "stream",
     "text": [
      "ユーザー情報： {'name': 'john', 'age': 30, 'email': 'john@example.com'}\n",
      "更新日： 2024-12-23 21:55:50.762792\n"
     ]
    }
   ],
   "source": [
    "from datetime import datetime\n",
    "\n",
    "def save_user(updated_at, **user):\n",
    "    print('ユーザー情報：', user)\n",
    "    print('更新日：', updated_at)\n",
    "\n",
    "user_info = {'name': 'john', 'age': 30, 'email': 'john@example.com'}\n",
    "save_user(datetime.now(),**user_info)  "
   ]
  },
  {
   "cell_type": "code",
   "execution_count": 74,
   "id": "b78887dd-b463-4d04-9682-24031d6a3b82",
   "metadata": {},
   "outputs": [
    {
     "name": "stdout",
     "output_type": "stream",
     "text": [
      "ユーザー情報： {'name': 'Sarah', 'age': 20, 'email': 'Sarah@example.com'}\n",
      "更新日： 2024-12-23 21:54:13.770437\n"
     ]
    }
   ],
   "source": [
    "user_info = {'name': 'Sarah', 'age': 20, 'email': 'Sarah@example.com'}\n",
    "save_user(datetime.now(), **user_info)  "
   ]
  },
  {
   "cell_type": "code",
   "execution_count": 78,
   "id": "674b4a44-29a8-483f-9c43-03abbfd2cdd4",
   "metadata": {},
   "outputs": [
    {
     "name": "stdout",
     "output_type": "stream",
     "text": [
      "ユーザー情報： {'name': 'john', 'age': 30, 'email': 'john@example.com'}\n",
      "更新日： 2024-12-23 21:57:43.046320\n",
      "ユーザー情報： {'name': 'Sarah', 'age': 20, 'email': 'Sarah@example.com'}\n",
      "更新日： 2024-12-23 21:57:43.046848\n"
     ]
    }
   ],
   "source": [
    "from datetime import datetime\n",
    "\n",
    "def save_user(updated_at=None, **user):\n",
    "    if updated_at is None:\n",
    "        updated_at = datetime.now()\n",
    "    print('ユーザー情報：', user)\n",
    "    print('更新日：', updated_at)\n",
    "\n",
    "user_info = {'name': 'john', 'age': 30, 'email': 'john@example.com'}\n",
    "save_user(**user_info)\n",
    "\n",
    "user_info = {'name': 'Sarah', 'age': 20, 'email': 'Sarah@example.com'}\n",
    "save_user(**user_info)"
   ]
  },
  {
   "cell_type": "code",
   "execution_count": 79,
   "id": "ca64464b-b1a8-48e7-82cf-00e2c45fee68",
   "metadata": {},
   "outputs": [
    {
     "name": "stdout",
     "output_type": "stream",
     "text": [
      "1, 2, 3\n"
     ]
    }
   ],
   "source": [
    "tp = (1, 2, 3)  \n",
    "a, b, c = tp    \n",
    "print(f'{a}, {b}, {c}')"
   ]
  },
  {
   "cell_type": "code",
   "execution_count": 80,
   "id": "e7edada5-f09b-48bd-beae-0b7c8b192dba",
   "metadata": {},
   "outputs": [
    {
     "name": "stdout",
     "output_type": "stream",
     "text": [
      "4, 5, 6\n"
     ]
    }
   ],
   "source": [
    "d, e, f = 4, 5, 6\n",
    "print(f'{d}, {e}, {f}')"
   ]
  },
  {
   "cell_type": "code",
   "execution_count": 81,
   "id": "700bac23-18a1-40e8-9728-622471b8967e",
   "metadata": {},
   "outputs": [
    {
     "name": "stdout",
     "output_type": "stream",
     "text": [
      "1, 2, 3\n"
     ]
    }
   ],
   "source": [
    "lt = [1, 2, 3]  \n",
    "a, b, c = lt   \n",
    "print(f'{a}, {b}, {c}')"
   ]
  },
  {
   "cell_type": "code",
   "execution_count": 82,
   "id": "99e94f3a-e5af-4d5b-9016-84399fbe1303",
   "metadata": {},
   "outputs": [
    {
     "name": "stdout",
     "output_type": "stream",
     "text": [
      "a, b, c\n"
     ]
    }
   ],
   "source": [
    "my_dict = {'a': 1, 'b': 2, 'c': 3} \n",
    "key1, key2, key3 = my_dict          \n",
    "print(f'{key1}, {key2}, {key3}')"
   ]
  },
  {
   "cell_type": "code",
   "execution_count": 83,
   "id": "d6797879-88e5-4392-8141-03fd46f2c5ce",
   "metadata": {},
   "outputs": [
    {
     "name": "stdout",
     "output_type": "stream",
     "text": [
      "1, 2, 3\n"
     ]
    }
   ],
   "source": [
    "v1, v2, v3 = my_dict.values() \n",
    "print(f'{v1}, {v2}, {v3}')"
   ]
  },
  {
   "cell_type": "code",
   "execution_count": 84,
   "id": "3509b379-b651-461d-a6d5-b2b1fd87f3dd",
   "metadata": {},
   "outputs": [
    {
     "ename": "ValueError",
     "evalue": "not enough values to unpack (expected 3, got 2)",
     "output_type": "error",
     "traceback": [
      "\u001b[0;31m---------------------------------------------------------------------------\u001b[0m",
      "\u001b[0;31mValueError\u001b[0m                                Traceback (most recent call last)",
      "Cell \u001b[0;32mIn[84], line 1\u001b[0m\n\u001b[0;32m----> 1\u001b[0m a, b, c \u001b[38;5;241m=\u001b[39m \u001b[38;5;241m1\u001b[39m, \u001b[38;5;241m2\u001b[39m\n",
      "\u001b[0;31mValueError\u001b[0m: not enough values to unpack (expected 3, got 2)"
     ]
    }
   ],
   "source": [
    "a, b, c = 1, 2"
   ]
  },
  {
   "cell_type": "code",
   "execution_count": 85,
   "id": "884c1519-3e03-4d16-b9b4-b1a8e56ba2f5",
   "metadata": {},
   "outputs": [
    {
     "ename": "ValueError",
     "evalue": "too many values to unpack (expected 2)",
     "output_type": "error",
     "traceback": [
      "\u001b[0;31m---------------------------------------------------------------------------\u001b[0m",
      "\u001b[0;31mValueError\u001b[0m                                Traceback (most recent call last)",
      "Cell \u001b[0;32mIn[85], line 1\u001b[0m\n\u001b[0;32m----> 1\u001b[0m a, b \u001b[38;5;241m=\u001b[39m \u001b[38;5;241m1\u001b[39m, \u001b[38;5;241m2\u001b[39m, \u001b[38;5;241m3\u001b[39m\n",
      "\u001b[0;31mValueError\u001b[0m: too many values to unpack (expected 2)"
     ]
    }
   ],
   "source": [
    "a, b = 1, 2, 3"
   ]
  },
  {
   "cell_type": "code",
   "execution_count": 88,
   "id": "322f3755-c454-4399-a3d6-432c83a7f961",
   "metadata": {},
   "outputs": [
    {
     "name": "stdout",
     "output_type": "stream",
     "text": [
      "0, 1, (2, 3, 4)\n"
     ]
    }
   ],
   "source": [
    "tp = (0, 1, (2, 3, 4))\n",
    "a, b, c = tp\n",
    "print(f'{a}, {b}, {c}')"
   ]
  },
  {
   "cell_type": "code",
   "execution_count": 89,
   "id": "b01bd328-1b82-4171-a53e-180e28e00308",
   "metadata": {},
   "outputs": [
    {
     "name": "stdout",
     "output_type": "stream",
     "text": [
      "0, 1, 2, 3, 4\n"
     ]
    }
   ],
   "source": [
    "tp = (0, 1, (2, 3, 4))\n",
    "a, b, (c, d, e) = tp\n",
    "print(f'{a}, {b}, {c}, {d}, {e}')"
   ]
  },
  {
   "cell_type": "code",
   "execution_count": 90,
   "id": "543b4a15-1e43-41de-95c9-2cbeeb9bfbef",
   "metadata": {},
   "outputs": [
    {
     "name": "stdout",
     "output_type": "stream",
     "text": [
      "0, 1, [2, 3, 4]\n"
     ]
    }
   ],
   "source": [
    "tp = (0, 1, 2, 3, 4)\n",
    "a, b, *c = tp\n",
    "print(f'{a}, {b}, {c}')"
   ]
  },
  {
   "cell_type": "code",
   "execution_count": 91,
   "id": "af00bbc2-f81f-44d9-bf6c-7e21e54b7cee",
   "metadata": {},
   "outputs": [
    {
     "name": "stdout",
     "output_type": "stream",
     "text": [
      "0, [1, 2, 3], 4\n"
     ]
    }
   ],
   "source": [
    "a, *b, c = tp\n",
    "print(f'{a}, {b}, {c}')"
   ]
  },
  {
   "cell_type": "code",
   "execution_count": 92,
   "id": "cb5014b9-c8a4-4243-93eb-8b6201f860b9",
   "metadata": {},
   "outputs": [
    {
     "name": "stdout",
     "output_type": "stream",
     "text": [
      "[0, 1, 2], 3, 4\n"
     ]
    }
   ],
   "source": [
    "*a, b, c = tp\n",
    "print(f'{a}, {b}, {c}')"
   ]
  },
  {
   "cell_type": "code",
   "execution_count": 93,
   "id": "9a592911-88c3-4f49-96b6-1fd9ef371d48",
   "metadata": {},
   "outputs": [
    {
     "ename": "SyntaxError",
     "evalue": "multiple starred expressions in assignment (4078179553.py, line 1)",
     "output_type": "error",
     "traceback": [
      "\u001b[0;36m  Cell \u001b[0;32mIn[93], line 1\u001b[0;36m\u001b[0m\n\u001b[0;31m    *a, *b, c = tp\u001b[0m\n\u001b[0m    ^\u001b[0m\n\u001b[0;31mSyntaxError\u001b[0m\u001b[0;31m:\u001b[0m multiple starred expressions in assignment\n"
     ]
    }
   ],
   "source": [
    "*a, *b, c = tp "
   ]
  },
  {
   "cell_type": "code",
   "execution_count": 95,
   "id": "c3ad5e65-18a4-4115-a9b3-4f5ff9e8c665",
   "metadata": {},
   "outputs": [
    {
     "name": "stdout",
     "output_type": "stream",
     "text": [
      "1, 2, 3\n"
     ]
    }
   ],
   "source": [
    "def sample_func(param1, param2, param3):\n",
    "    print(f'{param1}, {param2}, {param3}')\n",
    "\n",
    "args = [1, 2, 3]\n",
    "sample_func(*args)"
   ]
  },
  {
   "cell_type": "code",
   "execution_count": 96,
   "id": "462e9282-01be-4324-b993-4c1aa9196986",
   "metadata": {},
   "outputs": [
    {
     "name": "stdout",
     "output_type": "stream",
     "text": [
      "John, 30, John@example.com\n"
     ]
    }
   ],
   "source": [
    "def display_user(name, age, email):\n",
    "    print(f'{name}, {age}, {email}')\n",
    "\n",
    "user = {'name': 'John', 'age': 30, 'email': 'John@example.com'}\n",
    "display_user(**user)"
   ]
  },
  {
   "cell_type": "code",
   "execution_count": 97,
   "id": "aaa36478-f030-44bc-9422-bec8753345b8",
   "metadata": {},
   "outputs": [
    {
     "name": "stdout",
     "output_type": "stream",
     "text": [
      "GBR: 英国\n",
      "TWN: 台湾\n",
      "JPN: 日本\n"
     ]
    }
   ],
   "source": [
    "country_code = {\n",
    "    'GBR': '英国',\n",
    "    'TWN': '台湾',\n",
    "    'JPN': '日本'\n",
    "}\n",
    "\n",
    "for key, value in country_code.items():\n",
    "    print(f'{key}: {value}')"
   ]
  },
  {
   "cell_type": "code",
   "execution_count": 98,
   "id": "b8a3adae-4832-4439-b0a5-ff5d646d4b5b",
   "metadata": {},
   "outputs": [
    {
     "name": "stdout",
     "output_type": "stream",
     "text": [
      "0番目の色はRedです\n",
      "1番目の色はBlueです\n",
      "2番目の色はGreenです\n"
     ]
    }
   ],
   "source": [
    "colorlist = [\"Red\", \"Blue\", \"Green\"]\n",
    "\n",
    "for i, color in enumerate(colorlist):\n",
    "    print(f'{i}番目の色は{color}です')"
   ]
  },
  {
   "cell_type": "code",
   "execution_count": 99,
   "id": "4651a7f3-86e1-4c42-80e3-5e8261c2dde4",
   "metadata": {},
   "outputs": [
    {
     "data": {
      "text/plain": [
       "[0, 1, 4, 9, 16, 25, 36, 49, 64, 81]"
      ]
     },
     "execution_count": 99,
     "metadata": {},
     "output_type": "execute_result"
    }
   ],
   "source": [
    "number_list = []\n",
    "\n",
    "for i in range(10):\n",
    "    number_list.append(i ** 2)\n",
    "\n",
    "number_list"
   ]
  },
  {
   "cell_type": "code",
   "execution_count": 100,
   "id": "9723ef23-db15-408e-94ea-e41d38e77c79",
   "metadata": {},
   "outputs": [
    {
     "data": {
      "text/plain": [
       "[0, 1, 4, 9, 16, 25, 36, 49, 64, 81]"
      ]
     },
     "execution_count": 100,
     "metadata": {},
     "output_type": "execute_result"
    }
   ],
   "source": [
    "number_list = [i**2 for i in range(10)]\n",
    "number_list"
   ]
  },
  {
   "cell_type": "code",
   "execution_count": 101,
   "id": "37d5e0c6-8a35-4f32-8aed-6752bb27f833",
   "metadata": {},
   "outputs": [
    {
     "name": "stdout",
     "output_type": "stream",
     "text": [
      "[0, 4, 16, 36, 64]\n"
     ]
    }
   ],
   "source": [
    "number_list = [i**2 for i in range(10) if i % 2 == 0]\n",
    "print(number_list)"
   ]
  },
  {
   "cell_type": "code",
   "execution_count": 102,
   "id": "811f792f-4cda-4d0d-a9f8-cec264bffe8e",
   "metadata": {},
   "outputs": [
    {
     "name": "stdout",
     "output_type": "stream",
     "text": [
      "[('coffee', 'S'), ('coffee', 'M'), ('coffee', 'L'), ('tea', 'S'), ('tea', 'M'), ('tea', 'L'), ('Espresso', 'S'), ('Espresso', 'M'), ('Espresso', 'L')]\n"
     ]
    }
   ],
   "source": [
    "drinks = ['coffee', 'tea', 'Espresso']\n",
    "sizes = ['S', 'M', 'L']\n",
    "\n",
    "menu = [(drink, size) for drink in drinks for size in sizes]\n",
    "print(menu)"
   ]
  },
  {
   "cell_type": "code",
   "execution_count": 103,
   "id": "f3f7c20b-52c7-4090-94f5-109a6f84112c",
   "metadata": {},
   "outputs": [
    {
     "name": "stdout",
     "output_type": "stream",
     "text": [
      "[('coffee', 'S'), ('coffee', 'M'), ('coffee', 'L'), ('tea', 'S'), ('tea', 'M'), ('tea', 'L'), ('Espresso', 'S'), ('Espresso', 'M'), ('Espresso', 'L')]\n"
     ]
    }
   ],
   "source": [
    "menu = []\n",
    "for drink in drinks:\n",
    "    for size in sizes:\n",
    "        menu.append((drink, size))\n",
    "\n",
    "print(menu)"
   ]
  },
  {
   "cell_type": "code",
   "execution_count": 105,
   "id": "61d7cdd9-61ef-4ad2-93e4-e453c70fd80b",
   "metadata": {},
   "outputs": [
    {
     "name": "stdout",
     "output_type": "stream",
     "text": [
      "[0, 1, 4, 9, 6, 5, 6, 9, 4, 1]\n"
     ]
    }
   ],
   "source": [
    "result_list = [i**2 % 10 for i in range(10)]\n",
    "print(result_list)"
   ]
  },
  {
   "cell_type": "code",
   "execution_count": 106,
   "id": "2f99c885-e5ad-4403-a030-c93a7ee40bae",
   "metadata": {},
   "outputs": [
    {
     "name": "stdout",
     "output_type": "stream",
     "text": [
      "{0, 1, 4, 5, 6, 9}\n"
     ]
    }
   ],
   "source": [
    "result_set = {i**2 % 10 for i in range(10)}\n",
    "print(result_set)"
   ]
  },
  {
   "cell_type": "code",
   "execution_count": 107,
   "id": "33e83daa-1ae8-41f3-bafd-f3cb0612b977",
   "metadata": {},
   "outputs": [
    {
     "data": {
      "text/plain": [
       "{0: 0, 1: 1, 2: 4, 3: 9, 4: 16}"
      ]
     },
     "execution_count": 107,
     "metadata": {},
     "output_type": "execute_result"
    }
   ],
   "source": [
    "{i: i**2 for i in range(5)}"
   ]
  },
  {
   "cell_type": "code",
   "execution_count": 108,
   "id": "30f7a8b6-970f-42e8-bb1f-02eb7bb9f36d",
   "metadata": {},
   "outputs": [
    {
     "data": {
      "text/plain": [
       "generator"
      ]
     },
     "execution_count": 108,
     "metadata": {},
     "output_type": "execute_result"
    }
   ],
   "source": [
    "g = (i**2 for i in range(5))\n",
    "type(g)"
   ]
  },
  {
   "cell_type": "code",
   "execution_count": 109,
   "id": "4b4b769b-12ac-4cb0-8cfc-8f224949a1cf",
   "metadata": {},
   "outputs": [
    {
     "name": "stdout",
     "output_type": "stream",
     "text": [
      "0\n",
      "1\n",
      "4\n",
      "9\n",
      "16\n"
     ]
    }
   ],
   "source": [
    "for num in g:\n",
    "    print(num)"
   ]
  },
  {
   "cell_type": "code",
   "execution_count": 110,
   "id": "e929bab4-95d9-4169-b8f1-291c48d580f4",
   "metadata": {},
   "outputs": [
    {
     "data": {
      "text/plain": [
       "[1, 2, 4, 2, 2]"
      ]
     },
     "execution_count": 110,
     "metadata": {},
     "output_type": "execute_result"
    }
   ],
   "source": [
    "arr = [1.4, 2.0, 3.5, 2.25, 1.98]\n",
    "list(map(round, arr))"
   ]
  },
  {
   "cell_type": "code",
   "execution_count": 111,
   "id": "2ae72310-1c19-4412-a490-e3235ef4f719",
   "metadata": {},
   "outputs": [
    {
     "data": {
      "text/plain": [
       "[1, 2, 4, 2, 2]"
      ]
     },
     "execution_count": 111,
     "metadata": {},
     "output_type": "execute_result"
    }
   ],
   "source": [
    "[round(n) for n in arr]"
   ]
  },
  {
   "cell_type": "code",
   "execution_count": 112,
   "id": "7f8052e6-a8ea-45b8-8efe-2b215114aaa7",
   "metadata": {},
   "outputs": [
    {
     "data": {
      "text/plain": [
       "[4, 2]"
      ]
     },
     "execution_count": 112,
     "metadata": {},
     "output_type": "execute_result"
    }
   ],
   "source": [
    "list(map(round, filter(lambda n: n > 2, arr)))"
   ]
  },
  {
   "cell_type": "code",
   "execution_count": 113,
   "id": "5e06d5e0-b3e9-4d86-942b-9d64083d2ced",
   "metadata": {},
   "outputs": [
    {
     "data": {
      "text/plain": [
       "[4, 2]"
      ]
     },
     "execution_count": 113,
     "metadata": {},
     "output_type": "execute_result"
    }
   ],
   "source": [
    "[round(n) for n in arr if n > 2]"
   ]
  },
  {
   "cell_type": "code",
   "execution_count": 114,
   "id": "b839a72f-5b17-4468-9e47-41e79f17045c",
   "metadata": {},
   "outputs": [
    {
     "data": {
      "text/plain": [
       "list"
      ]
     },
     "execution_count": 114,
     "metadata": {},
     "output_type": "execute_result"
    }
   ],
   "source": [
    "def multiplier(values):\n",
    "    ret = []  \n",
    "    for i in values:\n",
    "        ret.append(2 ** i) \n",
    "    return ret  \n",
    "\n",
    "values = [0, 1, 2, 3, 4, 5]\n",
    "\n",
    "ret = multiplier(values)\n",
    "\n",
    "type(ret) "
   ]
  },
  {
   "cell_type": "code",
   "execution_count": 115,
   "id": "8b9e0767-8457-4196-b5e1-2c7c17ac5aff",
   "metadata": {},
   "outputs": [
    {
     "data": {
      "text/plain": [
       "[1, 2, 4, 8, 16, 32]"
      ]
     },
     "execution_count": 115,
     "metadata": {},
     "output_type": "execute_result"
    }
   ],
   "source": [
    "ret"
   ]
  },
  {
   "cell_type": "code",
   "execution_count": 116,
   "id": "90b99610-c9b4-4458-ac8b-8ecbcf9235d4",
   "metadata": {},
   "outputs": [
    {
     "data": {
      "text/plain": [
       "generator"
      ]
     },
     "execution_count": 116,
     "metadata": {},
     "output_type": "execute_result"
    }
   ],
   "source": [
    "def multiplier(values):\n",
    "    for i in values:\n",
    "        yield 2 ** i  \n",
    "\n",
    "values = [0, 1, 2, 3, 4, 5]\n",
    "\n",
    "ret = multiplier(values)\n",
    "\n",
    "type(ret) "
   ]
  },
  {
   "cell_type": "code",
   "execution_count": 117,
   "id": "a37544ba-9c3e-4b1b-82fc-58e4ad374107",
   "metadata": {},
   "outputs": [
    {
     "name": "stdout",
     "output_type": "stream",
     "text": [
      "1\n",
      "2\n",
      "4\n",
      "8\n",
      "16\n",
      "32\n"
     ]
    }
   ],
   "source": [
    "for i in ret:\n",
    "    print(i)"
   ]
  },
  {
   "cell_type": "code",
   "execution_count": 118,
   "id": "7fa21f77-7035-4dae-9fb8-079c88bb2698",
   "metadata": {},
   "outputs": [
    {
     "data": {
      "text/plain": [
       "<generator object multiplier at 0x111fa9000>"
      ]
     },
     "execution_count": 118,
     "metadata": {},
     "output_type": "execute_result"
    }
   ],
   "source": [
    "def multiplier():\n",
    "    num = 1  \n",
    "    while True:  \n",
    "        yield num  \n",
    "        num *= 2  \n",
    "\n",
    "gen = multiplier()\n",
    "\n",
    "gen  "
   ]
  },
  {
   "cell_type": "code",
   "execution_count": 119,
   "id": "1714af85-949f-43ba-84a5-1de10206dc6f",
   "metadata": {},
   "outputs": [
    {
     "data": {
      "text/plain": [
       "1"
      ]
     },
     "execution_count": 119,
     "metadata": {},
     "output_type": "execute_result"
    }
   ],
   "source": [
    "next(gen)"
   ]
  },
  {
   "cell_type": "code",
   "execution_count": 120,
   "id": "fc7c73d8-5813-4ac1-ad9d-030e01a184e4",
   "metadata": {},
   "outputs": [
    {
     "data": {
      "text/plain": [
       "2"
      ]
     },
     "execution_count": 120,
     "metadata": {},
     "output_type": "execute_result"
    }
   ],
   "source": [
    "next(gen)"
   ]
  },
  {
   "cell_type": "code",
   "execution_count": 121,
   "id": "403612ff-8f4e-4b6d-aed9-44bab836a5f9",
   "metadata": {},
   "outputs": [
    {
     "data": {
      "text/plain": [
       "4"
      ]
     },
     "execution_count": 121,
     "metadata": {},
     "output_type": "execute_result"
    }
   ],
   "source": [
    "next(gen)"
   ]
  },
  {
   "cell_type": "code",
   "execution_count": 122,
   "id": "15add7de-1ab6-457d-90bc-2de612d39a85",
   "metadata": {},
   "outputs": [
    {
     "data": {
      "text/plain": [
       "8"
      ]
     },
     "execution_count": 122,
     "metadata": {},
     "output_type": "execute_result"
    }
   ],
   "source": [
    "next(gen)"
   ]
  },
  {
   "cell_type": "code",
   "execution_count": 124,
   "id": "3b539125-3bb0-4d33-8c49-2dd3a3735cea",
   "metadata": {},
   "outputs": [
    {
     "data": {
      "text/plain": [
       "[1, 2, 4, 8, 16, 32]"
      ]
     },
     "execution_count": 124,
     "metadata": {},
     "output_type": "execute_result"
    }
   ],
   "source": [
    "def multiplier(values):\n",
    "    for i in values:\n",
    "        yield 2 ** i  \n",
    "\n",
    "values = [0, 1, 2, 3, 4, 5]\n",
    "\n",
    "ret = list(multiplier(values))\n",
    "\n",
    "ret"
   ]
  },
  {
   "cell_type": "code",
   "execution_count": null,
   "id": "310a5091-ad2f-453e-b5bc-37d0d8d809d1",
   "metadata": {},
   "outputs": [],
   "source": [
    "def text_retrieve(text):\n",
    "    with open('generator_sample.txt', 'r') as f:  \n",
    "        for row in f:\n",
    "            if text in row:  \n",
    "                yield row  \n",
    "\n",
    "for txt in text_retrieve(\"関数\"):  \n",
    "    do_something_func(txt)  "
   ]
  },
  {
   "cell_type": "code",
   "execution_count": 126,
   "id": "edbbdde4-f691-42d6-8058-2aac03e8659b",
   "metadata": {},
   "outputs": [
    {
     "data": {
      "text/plain": [
       "8448728"
      ]
     },
     "execution_count": 126,
     "metadata": {},
     "output_type": "execute_result"
    }
   ],
   "source": [
    "import sys\n",
    "\n",
    "multiplier_list = [i ** 2 for i in range(1_000_001)]\n",
    "sys.getsizeof(multiplier_list)"
   ]
  },
  {
   "cell_type": "code",
   "execution_count": 127,
   "id": "5dbf4a37-0240-4643-83e3-c4f6332dcc60",
   "metadata": {},
   "outputs": [
    {
     "name": "stdout",
     "output_type": "stream",
     "text": [
      "200\n"
     ]
    }
   ],
   "source": [
    "multiplier_gen = (i ** 2 for i in range(1_000_001))\n",
    "print(sys.getsizeof(multiplier_gen))"
   ]
  },
  {
   "cell_type": "code",
   "execution_count": 128,
   "id": "f2f6bb47-472c-4dca-b81c-519f25a9d2d1",
   "metadata": {},
   "outputs": [
    {
     "ename": "TypeError",
     "evalue": "object of type 'generator' has no len()",
     "output_type": "error",
     "traceback": [
      "\u001b[0;31m---------------------------------------------------------------------------\u001b[0m",
      "\u001b[0;31mTypeError\u001b[0m                                 Traceback (most recent call last)",
      "Cell \u001b[0;32mIn[128], line 3\u001b[0m\n\u001b[1;32m      1\u001b[0m multiplier_gen \u001b[38;5;241m=\u001b[39m (i \u001b[38;5;241m*\u001b[39m\u001b[38;5;241m*\u001b[39m \u001b[38;5;241m2\u001b[39m \u001b[38;5;28;01mfor\u001b[39;00m i \u001b[38;5;129;01min\u001b[39;00m \u001b[38;5;28mrange\u001b[39m(\u001b[38;5;241m1888\u001b[39m))\n\u001b[0;32m----> 3\u001b[0m \u001b[38;5;28mlen\u001b[39m(multiplier_gen)\n",
      "\u001b[0;31mTypeError\u001b[0m: object of type 'generator' has no len()"
     ]
    }
   ],
   "source": [
    "multiplier_gen = (i ** 2 for i in range(1888))\n",
    "\n",
    "len(multiplier_gen)"
   ]
  },
  {
   "cell_type": "code",
   "execution_count": 129,
   "id": "8cbff502-f635-4708-b0a6-b84c9718370b",
   "metadata": {},
   "outputs": [
    {
     "data": {
      "text/plain": [
       "1888"
      ]
     },
     "execution_count": 129,
     "metadata": {},
     "output_type": "execute_result"
    }
   ],
   "source": [
    "len(list(multiplier_gen))"
   ]
  },
  {
   "cell_type": "code",
   "execution_count": 130,
   "id": "a18aedfa-a3d5-4e7b-a824-847b7e3b5859",
   "metadata": {},
   "outputs": [
    {
     "data": {
      "text/plain": [
       "2304"
      ]
     },
     "execution_count": 130,
     "metadata": {},
     "output_type": "execute_result"
    }
   ],
   "source": [
    "def multiples256(values):\n",
    "    for i in values:\n",
    "        if i % 256 == 0:\n",
    "            yield i  \n",
    "\n",
    "values = [1512, 384, 512, 2304, 768, 864, 1512, 1792]\n",
    "\n",
    "m256 = multiples256(values)\n",
    "\n",
    "max(m256) "
   ]
  },
  {
   "cell_type": "code",
   "execution_count": 131,
   "id": "f77ef2cb-35ed-4c61-b2b0-9cd750310ffa",
   "metadata": {},
   "outputs": [
    {
     "ename": "ValueError",
     "evalue": "min() iterable argument is empty",
     "output_type": "error",
     "traceback": [
      "\u001b[0;31m---------------------------------------------------------------------------\u001b[0m",
      "\u001b[0;31mValueError\u001b[0m                                Traceback (most recent call last)",
      "Cell \u001b[0;32mIn[131], line 1\u001b[0m\n\u001b[0;32m----> 1\u001b[0m \u001b[38;5;28mmin\u001b[39m(m256)\n",
      "\u001b[0;31mValueError\u001b[0m: min() iterable argument is empty"
     ]
    }
   ],
   "source": [
    "min(m256)"
   ]
  },
  {
   "cell_type": "code",
   "execution_count": 132,
   "id": "7cea3e95-c36f-4f05-aacf-6f441f46dd1c",
   "metadata": {},
   "outputs": [
    {
     "data": {
      "text/plain": [
       "2304"
      ]
     },
     "execution_count": 132,
     "metadata": {},
     "output_type": "execute_result"
    }
   ],
   "source": [
    "m256 = list(multiples256(values))\n",
    "max(m256)  "
   ]
  },
  {
   "cell_type": "code",
   "execution_count": 133,
   "id": "cfa327b8-f348-4f9e-b71d-85dec89edcee",
   "metadata": {},
   "outputs": [
    {
     "data": {
      "text/plain": [
       "512"
      ]
     },
     "execution_count": 133,
     "metadata": {},
     "output_type": "execute_result"
    }
   ],
   "source": [
    "min(m256)"
   ]
  },
  {
   "cell_type": "code",
   "execution_count": null,
   "id": "3fa85be4-b097-4445-b224-6778d8b1faa9",
   "metadata": {},
   "outputs": [],
   "source": [
    "def multiplier():\n",
    "    for i in range(10):\n",
    "        db_update(i ** 2)\n",
    "        yield i ** 2\n",
    "\n",
    "gen = multiplier()\n",
    "next(gen)"
   ]
  },
  {
   "cell_type": "code",
   "execution_count": 139,
   "id": "72ebc9ce-4c8b-4d5e-b3dd-be04082a8fe8",
   "metadata": {},
   "outputs": [
    {
     "name": "stdout",
     "output_type": "stream",
     "text": [
      "Collecting retrying\n",
      "  Downloading retrying-1.3.4-py3-none-any.whl.metadata (6.9 kB)\n",
      "Requirement already satisfied: six>=1.7.0 in /opt/anaconda3/lib/python3.12/site-packages (from retrying) (1.16.0)\n",
      "Downloading retrying-1.3.4-py3-none-any.whl (11 kB)\n",
      "Installing collected packages: retrying\n",
      "Successfully installed retrying-1.3.4\n",
      "Note: you may need to restart the kernel to use updated packages.\n"
     ]
    }
   ],
   "source": [
    "pip install retrying"
   ]
  },
  {
   "cell_type": "code",
   "execution_count": 2,
   "id": "d4c56912-7a4a-4029-9e06-fb935458156b",
   "metadata": {},
   "outputs": [
    {
     "name": "stdout",
     "output_type": "stream",
     "text": [
      "raise ValueError\n",
      "raise ValueError\n",
      "raise ValueError\n",
      "raise ValueError\n",
      "raise ValueError\n",
      "raise ValueError\n",
      "raise ValueError\n",
      "raise ValueError\n",
      "5です\n"
     ]
    }
   ],
   "source": [
    "import random\n",
    "from retrying import retry\n",
    "\n",
    "@retry\n",
    "def my_func():\n",
    "    if random.randint(0, 10) == 5:  \n",
    "        print('5です')  \n",
    "    else:\n",
    "        print('raise ValueError')\n",
    "        raise ValueError(\"5ではありません\")\n",
    "\n",
    "my_func()"
   ]
  },
  {
   "cell_type": "code",
   "execution_count": 3,
   "id": "d865a8a9-a1dc-4d75-b813-e3a2569698d7",
   "metadata": {},
   "outputs": [
    {
     "name": "stdout",
     "output_type": "stream",
     "text": [
      "raise ValueError\n",
      "raise ValueError\n"
     ]
    },
    {
     "ename": "ValueError",
     "evalue": "5ではありません",
     "output_type": "error",
     "traceback": [
      "\u001b[0;31m---------------------------------------------------------------------------\u001b[0m",
      "\u001b[0;31mValueError\u001b[0m                                Traceback (most recent call last)",
      "Cell \u001b[0;32mIn[3], line 9\u001b[0m\n\u001b[1;32m      6\u001b[0m         \u001b[38;5;28mprint\u001b[39m(\u001b[38;5;124m'\u001b[39m\u001b[38;5;124mraise ValueError\u001b[39m\u001b[38;5;124m'\u001b[39m)\n\u001b[1;32m      7\u001b[0m         \u001b[38;5;28;01mraise\u001b[39;00m \u001b[38;5;167;01mValueError\u001b[39;00m(\u001b[38;5;124m\"\u001b[39m\u001b[38;5;124m5ではありません\u001b[39m\u001b[38;5;124m\"\u001b[39m)\n\u001b[0;32m----> 9\u001b[0m my_func()\n",
      "File \u001b[0;32m/opt/anaconda3/lib/python3.12/site-packages/retrying.py:56\u001b[0m, in \u001b[0;36mretry.<locals>.wrap.<locals>.wrapped_f\u001b[0;34m(*args, **kw)\u001b[0m\n\u001b[1;32m     54\u001b[0m \u001b[38;5;129m@six\u001b[39m\u001b[38;5;241m.\u001b[39mwraps(f)\n\u001b[1;32m     55\u001b[0m \u001b[38;5;28;01mdef\u001b[39;00m \u001b[38;5;21mwrapped_f\u001b[39m(\u001b[38;5;241m*\u001b[39margs, \u001b[38;5;241m*\u001b[39m\u001b[38;5;241m*\u001b[39mkw):\n\u001b[0;32m---> 56\u001b[0m     \u001b[38;5;28;01mreturn\u001b[39;00m Retrying(\u001b[38;5;241m*\u001b[39mdargs, \u001b[38;5;241m*\u001b[39m\u001b[38;5;241m*\u001b[39mdkw)\u001b[38;5;241m.\u001b[39mcall(f, \u001b[38;5;241m*\u001b[39margs, \u001b[38;5;241m*\u001b[39m\u001b[38;5;241m*\u001b[39mkw)\n",
      "File \u001b[0;32m/opt/anaconda3/lib/python3.12/site-packages/retrying.py:266\u001b[0m, in \u001b[0;36mRetrying.call\u001b[0;34m(self, fn, *args, **kwargs)\u001b[0m\n\u001b[1;32m    263\u001b[0m \u001b[38;5;28;01mif\u001b[39;00m \u001b[38;5;28mself\u001b[39m\u001b[38;5;241m.\u001b[39mstop(attempt_number, delay_since_first_attempt_ms):\n\u001b[1;32m    264\u001b[0m     \u001b[38;5;28;01mif\u001b[39;00m \u001b[38;5;129;01mnot\u001b[39;00m \u001b[38;5;28mself\u001b[39m\u001b[38;5;241m.\u001b[39m_wrap_exception \u001b[38;5;129;01mand\u001b[39;00m attempt\u001b[38;5;241m.\u001b[39mhas_exception:\n\u001b[1;32m    265\u001b[0m         \u001b[38;5;66;03m# get() on an attempt with an exception should cause it to be raised, but raise just in case\u001b[39;00m\n\u001b[0;32m--> 266\u001b[0m         \u001b[38;5;28;01mraise\u001b[39;00m attempt\u001b[38;5;241m.\u001b[39mget()\n\u001b[1;32m    267\u001b[0m     \u001b[38;5;28;01melse\u001b[39;00m:\n\u001b[1;32m    268\u001b[0m         \u001b[38;5;28;01mraise\u001b[39;00m RetryError(attempt)\n",
      "File \u001b[0;32m/opt/anaconda3/lib/python3.12/site-packages/retrying.py:301\u001b[0m, in \u001b[0;36mAttempt.get\u001b[0;34m(self, wrap_exception)\u001b[0m\n\u001b[1;32m    299\u001b[0m         \u001b[38;5;28;01mraise\u001b[39;00m RetryError(\u001b[38;5;28mself\u001b[39m)\n\u001b[1;32m    300\u001b[0m     \u001b[38;5;28;01melse\u001b[39;00m:\n\u001b[0;32m--> 301\u001b[0m         six\u001b[38;5;241m.\u001b[39mreraise(\u001b[38;5;28mself\u001b[39m\u001b[38;5;241m.\u001b[39mvalue[\u001b[38;5;241m0\u001b[39m], \u001b[38;5;28mself\u001b[39m\u001b[38;5;241m.\u001b[39mvalue[\u001b[38;5;241m1\u001b[39m], \u001b[38;5;28mself\u001b[39m\u001b[38;5;241m.\u001b[39mvalue[\u001b[38;5;241m2\u001b[39m])\n\u001b[1;32m    302\u001b[0m \u001b[38;5;28;01melse\u001b[39;00m:\n\u001b[1;32m    303\u001b[0m     \u001b[38;5;28;01mreturn\u001b[39;00m \u001b[38;5;28mself\u001b[39m\u001b[38;5;241m.\u001b[39mvalue\n",
      "File \u001b[0;32m/opt/anaconda3/lib/python3.12/site-packages/six.py:719\u001b[0m, in \u001b[0;36mreraise\u001b[0;34m(tp, value, tb)\u001b[0m\n\u001b[1;32m    717\u001b[0m     \u001b[38;5;28;01mif\u001b[39;00m value\u001b[38;5;241m.\u001b[39m__traceback__ \u001b[38;5;129;01mis\u001b[39;00m \u001b[38;5;129;01mnot\u001b[39;00m tb:\n\u001b[1;32m    718\u001b[0m         \u001b[38;5;28;01mraise\u001b[39;00m value\u001b[38;5;241m.\u001b[39mwith_traceback(tb)\n\u001b[0;32m--> 719\u001b[0m     \u001b[38;5;28;01mraise\u001b[39;00m value\n\u001b[1;32m    720\u001b[0m \u001b[38;5;28;01mfinally\u001b[39;00m:\n\u001b[1;32m    721\u001b[0m     value \u001b[38;5;241m=\u001b[39m \u001b[38;5;28;01mNone\u001b[39;00m\n",
      "File \u001b[0;32m/opt/anaconda3/lib/python3.12/site-packages/retrying.py:251\u001b[0m, in \u001b[0;36mRetrying.call\u001b[0;34m(self, fn, *args, **kwargs)\u001b[0m\n\u001b[1;32m    248\u001b[0m     \u001b[38;5;28mself\u001b[39m\u001b[38;5;241m.\u001b[39m_before_attempts(attempt_number)\n\u001b[1;32m    250\u001b[0m \u001b[38;5;28;01mtry\u001b[39;00m:\n\u001b[0;32m--> 251\u001b[0m     attempt \u001b[38;5;241m=\u001b[39m Attempt(fn(\u001b[38;5;241m*\u001b[39margs, \u001b[38;5;241m*\u001b[39m\u001b[38;5;241m*\u001b[39mkwargs), attempt_number, \u001b[38;5;28;01mFalse\u001b[39;00m)\n\u001b[1;32m    252\u001b[0m \u001b[38;5;28;01mexcept\u001b[39;00m:\n\u001b[1;32m    253\u001b[0m     tb \u001b[38;5;241m=\u001b[39m sys\u001b[38;5;241m.\u001b[39mexc_info()\n",
      "Cell \u001b[0;32mIn[3], line 7\u001b[0m, in \u001b[0;36mmy_func\u001b[0;34m()\u001b[0m\n\u001b[1;32m      5\u001b[0m \u001b[38;5;28;01melse\u001b[39;00m:\n\u001b[1;32m      6\u001b[0m     \u001b[38;5;28mprint\u001b[39m(\u001b[38;5;124m'\u001b[39m\u001b[38;5;124mraise ValueError\u001b[39m\u001b[38;5;124m'\u001b[39m)\n\u001b[0;32m----> 7\u001b[0m     \u001b[38;5;28;01mraise\u001b[39;00m \u001b[38;5;167;01mValueError\u001b[39;00m(\u001b[38;5;124m\"\u001b[39m\u001b[38;5;124m5ではありません\u001b[39m\u001b[38;5;124m\"\u001b[39m)\n",
      "\u001b[0;31mValueError\u001b[0m: 5ではありません"
     ]
    }
   ],
   "source": [
    "@retry(stop_max_attempt_number=2)\n",
    "def my_func():\n",
    "    if random.randint(0, 10) == 5:\n",
    "        print('5です')\n",
    "    else:\n",
    "        print('raise ValueError')\n",
    "        raise ValueError(\"5ではありません\")\n",
    "\n",
    "my_func()"
   ]
  },
  {
   "cell_type": "code",
   "execution_count": 4,
   "id": "8833df9c-1716-4657-a1ea-3188726d46b4",
   "metadata": {},
   "outputs": [
    {
     "name": "stdout",
     "output_type": "stream",
     "text": [
      "<function func_greeting.<locals>.print_greeting at 0x105413a60>\n"
     ]
    }
   ],
   "source": [
    "def func_greeting(name):\n",
    "    def print_greeting():\n",
    "        print(f'こんにちは、{name}さん')  \n",
    "    return print_greeting  \n",
    "\n",
    "func = func_greeting('john')\n",
    "\n",
    "print(func) "
   ]
  },
  {
   "cell_type": "code",
   "execution_count": 5,
   "id": "df07a920-c2a1-4a8d-95b0-1225d66029d5",
   "metadata": {},
   "outputs": [
    {
     "name": "stdout",
     "output_type": "stream",
     "text": [
      "こんにちは、johnさん\n"
     ]
    }
   ],
   "source": [
    "func()"
   ]
  },
  {
   "cell_type": "code",
   "execution_count": 6,
   "id": "e3e9b94a-0069-4be3-ab9b-d06074239a9f",
   "metadata": {},
   "outputs": [
    {
     "name": "stdout",
     "output_type": "stream",
     "text": [
      "こんにちは、johnさん\n",
      "今日はいいお天気ですね\n"
     ]
    }
   ],
   "source": [
    "def after_greeting(func, name):\n",
    "    func(name)  \n",
    "    print(\"今日はいいお天気ですね\")  \n",
    "\n",
    "def greeting(name):\n",
    "    print(f\"こんにちは、{name}さん\")  \n",
    "\n",
    "after_greeting(greeting, 'john')"
   ]
  },
  {
   "cell_type": "code",
   "execution_count": 7,
   "id": "55272e49-9d33-4506-9483-ac76d072dd76",
   "metadata": {},
   "outputs": [
    {
     "data": {
      "text/plain": [
       "<function __main__.my_decorator.<locals>.wrap_function()>"
      ]
     },
     "execution_count": 7,
     "metadata": {},
     "output_type": "execute_result"
    }
   ],
   "source": [
    "def my_decorator(func):\n",
    "    def wrap_function():\n",
    "        func()  \n",
    "        print(f'function: {func.__name__} called')  \n",
    "    return wrap_function  \n",
    "\n",
    "def greeting():\n",
    "    print('こんにちは') \n",
    "\n",
    "greeting = my_decorator(greeting)\n",
    "\n",
    "greeting"
   ]
  },
  {
   "cell_type": "code",
   "execution_count": 8,
   "id": "0e576189-24c8-408a-8baa-ab023b0a4a94",
   "metadata": {},
   "outputs": [
    {
     "name": "stdout",
     "output_type": "stream",
     "text": [
      "こんにちは\n",
      "function: greeting called\n"
     ]
    }
   ],
   "source": [
    "greeting()"
   ]
  },
  {
   "cell_type": "code",
   "execution_count": 9,
   "id": "15d6c4db-6e89-48f0-b5e4-c338cf90f410",
   "metadata": {},
   "outputs": [
    {
     "data": {
      "text/plain": [
       "<function __main__.my_decorator.<locals>.wrap_function()>"
      ]
     },
     "execution_count": 9,
     "metadata": {},
     "output_type": "execute_result"
    }
   ],
   "source": [
    "@my_decorator\n",
    "def greeting():\n",
    "    print('こんにちは')\n",
    "\n",
    "greeting"
   ]
  },
  {
   "cell_type": "code",
   "execution_count": 10,
   "id": "9e67687f-fabd-4bfb-9c2f-7c8e1a1c388a",
   "metadata": {},
   "outputs": [
    {
     "name": "stdout",
     "output_type": "stream",
     "text": [
      "こんにちは\n",
      "function: greeting called\n"
     ]
    }
   ],
   "source": [
    "greeting()"
   ]
  },
  {
   "cell_type": "code",
   "execution_count": 11,
   "id": "3d3be394-d1c4-4be4-8cce-512867e479cd",
   "metadata": {},
   "outputs": [
    {
     "name": "stdout",
     "output_type": "stream",
     "text": [
      "<function my_decorator.<locals>.wrap_function at 0x1058e0540>\n"
     ]
    }
   ],
   "source": [
    "def my_decorator(func):\n",
    "    def wrap_function(a):\n",
    "        \"\"\"wrap_function のドキュメントです\"\"\"\n",
    "        func(a)\n",
    "    return wrap_function\n",
    "\n",
    "@my_decorator\n",
    "def greeting(name):\n",
    "    \"\"\"greeting のドキュメントです\"\"\"\n",
    "    print(f'こんにちは、{name}さん')\n",
    "\n",
    "print(greeting)  "
   ]
  },
  {
   "cell_type": "code",
   "execution_count": 12,
   "id": "aa22740b-8ff4-43e5-ab5d-8e4d32e5fdc1",
   "metadata": {},
   "outputs": [
    {
     "data": {
      "text/plain": [
       "'wrap_function'"
      ]
     },
     "execution_count": 12,
     "metadata": {},
     "output_type": "execute_result"
    }
   ],
   "source": [
    "greeting.__name__"
   ]
  },
  {
   "cell_type": "code",
   "execution_count": 13,
   "id": "bf5c03f4-c678-47ce-9feb-82e506e07447",
   "metadata": {},
   "outputs": [
    {
     "data": {
      "text/plain": [
       "'wrap_function のドキュメントです'"
      ]
     },
     "execution_count": 13,
     "metadata": {},
     "output_type": "execute_result"
    }
   ],
   "source": [
    "greeting.__doc__"
   ]
  },
  {
   "cell_type": "code",
   "execution_count": 14,
   "id": "0ed7a9c8-ca01-42e2-adeb-5fb5fedb10fe",
   "metadata": {},
   "outputs": [
    {
     "data": {
      "text/plain": [
       "'greeting'"
      ]
     },
     "execution_count": 14,
     "metadata": {},
     "output_type": "execute_result"
    }
   ],
   "source": [
    "from functools import wraps\n",
    "def my_decorator(func):\n",
    "    @wraps(func) \n",
    "    def wrap_function(a):\n",
    "        \"\"\"wrap_function のドキュメントです\"\"\"\n",
    "        func(a)  \n",
    "    return wrap_function\n",
    "\n",
    "@my_decorator\n",
    "def greeting(name):\n",
    "    \"\"\"greeting のドキュメントです\"\"\"\n",
    "    print(f'こんにちは、{name}さん')\n",
    "\n",
    "\n",
    "greeting.__name__"
   ]
  },
  {
   "cell_type": "code",
   "execution_count": 18,
   "id": "c18611f5-c09e-42c4-b15b-fd4aee2d5da9",
   "metadata": {},
   "outputs": [
    {
     "data": {
      "text/plain": [
       "'greeting のドキュメントです'"
      ]
     },
     "execution_count": 18,
     "metadata": {},
     "output_type": "execute_result"
    }
   ],
   "source": [
    "greeting.__doc__"
   ]
  },
  {
   "cell_type": "code",
   "execution_count": null,
   "id": "c4d44376-34bc-4a28-b1c1-0def04871ddc",
   "metadata": {},
   "outputs": [],
   "source": []
  }
 ],
 "metadata": {
  "kernelspec": {
   "display_name": "Python 3 (ipykernel)",
   "language": "python",
   "name": "python3"
  },
  "language_info": {
   "codemirror_mode": {
    "name": "ipython",
    "version": 3
   },
   "file_extension": ".py",
   "mimetype": "text/x-python",
   "name": "python",
   "nbconvert_exporter": "python",
   "pygments_lexer": "ipython3",
   "version": "3.12.7"
  }
 },
 "nbformat": 4,
 "nbformat_minor": 5
}
